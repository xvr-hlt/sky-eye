{
 "cells": [
  {
   "cell_type": "code",
   "execution_count": null,
   "metadata": {},
   "outputs": [],
   "source": [
    "%load_ext autoreload\n",
    "%autoreload 2"
   ]
  },
  {
   "cell_type": "code",
   "execution_count": null,
   "metadata": {},
   "outputs": [],
   "source": [
    "import segmentation_models_pytorch as smp\n",
    "from segmentation_models_pytorch.encoders import get_preprocessing_fn"
   ]
  },
  {
   "cell_type": "code",
   "execution_count": null,
   "metadata": {},
   "outputs": [],
   "source": [
    "import os\n",
    "import wandb\n",
    "#os.environ['WANDB_MODE'] = 'dryrun'\n",
    "os.environ['WANDB_NOTEBOOK_NAME'] = 'data.ipynb'\n",
    "wandb.init(\"sky-eye-full\")\n",
    "conf = wandb.config"
   ]
  },
  {
   "cell_type": "code",
   "execution_count": null,
   "metadata": {},
   "outputs": [],
   "source": [
    "from glob import glob\n",
    "train_dir = '/home/jovyan/work/datasets/xview/train'\n",
    "test_dir = '/home/jovyan/work/datasets/xview/test'"
   ]
  },
  {
   "cell_type": "code",
   "execution_count": null,
   "metadata": {},
   "outputs": [],
   "source": [
    "from tqdm import tqdm_notebook as tqdm\n",
    "import numpy as np\n",
    "import torch\n",
    "from torch import nn\n",
    "from xv.util import vis_im_mask\n",
    "import segmentation_models_pytorch as smp"
   ]
  },
  {
   "cell_type": "code",
   "execution_count": null,
   "metadata": {
    "scrolled": false
   },
   "outputs": [],
   "source": [
    "conf.aug_prob = .5\n",
    "conf.train_pre = True\n",
    "conf.train_post = False\n",
    "\n",
    "conf.n_dmg_classes = 4\n",
    "conf.batch_size = 12\n",
    "conf.image_size = 512\n",
    "\n",
    "conf.damage_scale_mode = 'ordinal'\n",
    "\n",
    "conf.blocktype = 'bottleneck'\n",
    "\n",
    "conf.blocks = [2, 4]\n",
    "conf.strides = [2, 2]\n",
    "conf.growth_rate = 1\n",
    "\n",
    "#conf.pretrained_model = 'selimsef_spacenet4_densenet121unet'\n",
    "#conf.pretrained = True\n",
    "\n",
    "conf.segmentation_arch = 'Linknet'\n",
    "conf.encoder = 'efficientnet-b2'\n",
    "\n",
    "dmg_downscale=1\n",
    "for s in conf.strides:\n",
    "    dmg_downscale *= s\n",
    "    \n",
    "conf.dmg_downscale_ratio = dmg_downscale\n"
   ]
  },
  {
   "cell_type": "code",
   "execution_count": null,
   "metadata": {},
   "outputs": [],
   "source": [
    "import albumentations as al\n",
    "\n",
    "augment = al.Compose([\n",
    "        al.HorizontalFlip(p=conf.aug_prob),\n",
    "        al.VerticalFlip(p=conf.aug_prob),\n",
    "        al.RandomRotate90(p=conf.aug_prob),\n",
    "        al.Transpose(p=conf.aug_prob),\n",
    "        al.GridDistortion(p=conf.aug_prob, distort_limit=.2),\n",
    "        al.ShiftScaleRotate(p=conf.aug_prob),\n",
    "        al.RandomBrightnessContrast(p=conf.aug_prob)\n",
    "])"
   ]
  },
  {
   "cell_type": "code",
   "execution_count": null,
   "metadata": {},
   "outputs": [],
   "source": [
    "from xv.nn.solaris.model_io import get_model\n",
    "from xv.nn.nets import DownscaleLayer, XVNet\n",
    "from torchvision.models.resnet import BasicBlock, Bottleneck\n",
    "import segmentation_models_pytorch as smp\n",
    "\n",
    "\n",
    "block_types = {\n",
    "    'bottleneck': Bottleneck,\n",
    "    'basic': BasicBlock\n",
    "}\n",
    "\n",
    "segmentation_types = {\n",
    "    'PSPNet': smp.PSPNet,\n",
    "    'FPN': smp.FPN,\n",
    "    'Linknet': smp.Linknet,\n",
    "    'Unet': smp.Unet\n",
    "}\n",
    "\n",
    "if 'pretrained_model' in dict(conf):\n",
    "    building_seg = get_model(conf.pretrained_model, 'torch', pretrained=conf.pretrained)\n",
    "    preprocess_fn=None\n",
    "else:\n",
    "    building_seg = segmentation_types[conf.segmentation_arch](conf.encoder, classes=1, activation='sigmoid')\n",
    "    preprocess_fn = get_preprocessing_fn(conf.encoder)\n",
    "\n",
    "if conf.train_post:\n",
    "    damage = DownscaleLayer(inplanes=building_seg.final_filters, blocks=conf.blocks, strides=conf.strides,\n",
    "                           block=block_types[conf.blocktype],\n",
    "                           nclasses=conf.n_dmg_classes,\n",
    "                           growth_rate=conf.growth_rate)\n",
    "else:\n",
    "    damage = None\n",
    "\n",
    "model = XVNet(building_seg, damage).to('cuda')"
   ]
  },
  {
   "cell_type": "code",
   "execution_count": null,
   "metadata": {},
   "outputs": [],
   "source": [
    "from xv.nn import dataset\n",
    "from xv import util\n",
    "import random\n",
    "\n",
    "instances = dataset.XViewSegmentationDataset.get_instances(train_dir)\n",
    "\n",
    "random.seed(hash(\"😂\"))\n",
    "random.shuffle(instances)\n",
    "\n",
    "dev_ix = int(len(instances)*.20)\n",
    "dev_instances = instances[:dev_ix]\n",
    "train_instances = instances[dev_ix:]\n",
    "len(train_instances), len(dev_instances)\n",
    "\n",
    "train_dataset = dataset.XViewSegmentationDataset(\n",
    "    instances=train_instances,\n",
    "    resolution=(conf.image_size, conf.image_size),\n",
    "    dmg_downscale_ratio = conf.dmg_downscale_ratio,\n",
    "    augment=augment,\n",
    "    damage_scale_mode=conf.damage_scale_mode,\n",
    "    preprocess_fn=preprocess_fn,\n",
    ")\n",
    "\n",
    "dev_dataset = dataset.XViewSegmentationDataset(\n",
    "    instances=dev_instances,\n",
    "    resolution=(conf.image_size, conf.image_size),\n",
    "    dmg_downscale_ratio = conf.dmg_downscale_ratio,\n",
    "    augment=None,\n",
    "    damage_scale_mode=conf.damage_scale_mode,\n",
    "    preprocess_fn=preprocess_fn\n",
    ")\n",
    "\n",
    "train_loader = torch.utils.data.DataLoader(\n",
    "    train_dataset,\n",
    "    batch_size=conf.batch_size,\n",
    "    shuffle=True,\n",
    "    num_workers=10,\n",
    "    pin_memory=True,\n",
    ")\n",
    "\n",
    "dev_loader = torch.utils.data.DataLoader(\n",
    "    dev_dataset,\n",
    "    batch_size=conf.batch_size,\n",
    "    shuffle=True,\n",
    "    num_workers=10,\n",
    "    pin_memory=True,\n",
    ")"
   ]
  },
  {
   "cell_type": "code",
   "execution_count": null,
   "metadata": {},
   "outputs": [],
   "source": [
    "from xv.nn.losses import loss_dict, WeightedLoss\n",
    "\n",
    "conf.loss_weights = {\n",
    "    'dice': 1,\n",
    "    'focal': 1,\n",
    "    #'bcewithlogits': 1,\n",
    "    #'jaccard': 1\n",
    "}\n",
    "\n",
    "loss = WeightedLoss({loss_dict[l]():w for l, w in conf.loss_weights.items()})"
   ]
  },
  {
   "cell_type": "code",
   "execution_count": null,
   "metadata": {},
   "outputs": [],
   "source": [
    "import apex\n",
    "\n",
    "optims = {\n",
    "    'adam': torch.optim.Adam,\n",
    "}\n",
    "\n",
    "conf.optim = 'adam'\n",
    "conf.lr = 0.0005\n",
    "\n",
    "optim = optims[conf.optim](model.parameters(), lr=conf.lr)"
   ]
  },
  {
   "cell_type": "code",
   "execution_count": null,
   "metadata": {},
   "outputs": [],
   "source": [
    "from apex import amp"
   ]
  },
  {
   "cell_type": "code",
   "execution_count": null,
   "metadata": {},
   "outputs": [],
   "source": [
    "from apex import amp\n",
    "conf.amp_opt_level = 'O1'\n",
    "model, optim = amp.initialize(model, optim, opt_level=conf.amp_opt_level)"
   ]
  },
  {
   "cell_type": "code",
   "execution_count": null,
   "metadata": {},
   "outputs": [],
   "source": [
    "wandb.watch(model);"
   ]
  },
  {
   "cell_type": "code",
   "execution_count": null,
   "metadata": {},
   "outputs": [],
   "source": [
    "conf.scheduler_factor = 0.5\n",
    "conf.scheduler_patience = 5\n",
    "\n",
    "scheduler = torch.optim.lr_scheduler.ReduceLROnPlateau(optim, factor=conf.scheduler_factor, patience=conf.scheduler_patience)"
   ]
  },
  {
   "cell_type": "code",
   "execution_count": null,
   "metadata": {},
   "outputs": [],
   "source": [
    "conf.pre_weight = 1.\n",
    "conf.post_weight = 1."
   ]
  },
  {
   "cell_type": "code",
   "execution_count": null,
   "metadata": {},
   "outputs": [],
   "source": [
    "from collections import defaultdict\n",
    "def train(model, optim, data, loss_fn, train_pre=True, train_post=True):\n",
    "    model = model.train()\n",
    "    loss_sum, loss_pre_sum, loss_post_sum = 0., 0., 0.\n",
    "    \n",
    "    for batch in tqdm(iter(data)):\n",
    "        optim.zero_grad()        \n",
    "        loss = 0.\n",
    "        \n",
    "        if train_pre:\n",
    "            pre_out = model(batch['images']['image'].to('cuda'))\n",
    "            pre_targets = batch['masks']['buildings'].to('cuda')\n",
    "            loss_pre = conf.pre_weight*loss_fn(pre_out, batch['masks']['buildings'].to('cuda'))\n",
    "            loss += loss_pre\n",
    "            loss_pre_sum += loss_pre\n",
    "\n",
    "        if train_post:\n",
    "            post_out = model(batch['images']['post'].to('cuda'), downscale=True)\n",
    "            post_targets = batch['masks']['damage'].to('cuda')\n",
    "            loss_post = conf.post_weight*sum((loss_fn(mask_out, mask) for mask_out, mask in zip(post_out, batch['masks']['damage'].to('cuda'))))\n",
    "            loss_post /= post_out.shape[1]\n",
    "            loss += loss_post\n",
    "            loss_post_sum += loss_post\n",
    "\n",
    "        if train_pre and train_post:\n",
    "            loss /= (conf.pre_weight+conf.post_weight)\n",
    "        \n",
    "        with amp.scale_loss(loss, optim) as scaled_loss:\n",
    "            scaled_loss.backward()\n",
    "        optim.step()\n",
    "        \n",
    "        loss_sum += loss\n",
    "        \n",
    "    return {\n",
    "        'loss':loss_sum/len(data), \n",
    "        'loss_pre': loss_pre_sum/len(data) if train_pre else None,\n",
    "        'loss_post': loss_post_sum/len(data) if train_post else None\n",
    "    }\n",
    "\n",
    "def batch_metrics(outputs, targets, threshold=0.5):\n",
    "    metrics = {}\n",
    "    pr_sum, re_sum, f_sum = 0., 0., 0.\n",
    "    for output, target in zip(outputs, targets):\n",
    "        target_bool = target.to(torch.bool)\n",
    "        output_bool = output.sigmoid() > threshold\n",
    "\n",
    "        recall = output_bool[target_bool].float().mean()\n",
    "        recall = recall if recall == recall else 1.\n",
    "\n",
    "        precision = target_bool[output_bool].float().mean()\n",
    "        precision = precision if precision == precision else 1.\n",
    "\n",
    "        pr_sum += precision\n",
    "        re_sum += recall\n",
    "        f_sum += 2*precision*recall/(precision + recall) if (precision + recall) > 0. else 0.\n",
    "\n",
    "    return {\n",
    "        'recall': re_sum/len(outputs),\n",
    "        'precision': pr_sum/len(outputs),\n",
    "        'f1': f_sum/len(outputs)\n",
    "    }\n",
    "    \n",
    "\n",
    "def evaluate(model, optim, data, loss_fn, threshold=0.5, eval_pre=True, eval_post=True):\n",
    "    model = model.eval()\n",
    "    metrics = defaultdict(float)\n",
    "    \n",
    "    with torch.no_grad():\n",
    "        metric_sums = defaultdict(float)\n",
    "        for batch in tqdm(iter(data)):\n",
    "            loss = 0.\n",
    "            \n",
    "            if eval_pre:\n",
    "                pre_out = model(batch['images']['image'].to('cuda'))\n",
    "                pre_targets = batch['masks']['buildings'].to('cuda')\n",
    "                loss_pre = conf.pre_weight*loss_fn(pre_out, pre_targets)\n",
    "                metrics['loss_pre'] += loss_pre\n",
    "                loss += loss_pre\n",
    "                for k,v in batch_metrics(pre_out, pre_targets).items():    \n",
    "                    metrics[f'building_{k}'] += v\n",
    "\n",
    "            if eval_post:\n",
    "                post_out = model(batch['images']['post'].to('cuda'), downscale=True)\n",
    "                post_targets = batch['masks']['damage'].to('cuda')\n",
    "                loss_post = conf.post_weight*sum((loss_fn(mask_out, mask) for mask_out, mask in zip(post_out, post_targets)))\n",
    "                metrics['loss_post'] += loss_post\n",
    "                loss += loss_post\n",
    "                macro_metrics = defaultdict(float)\n",
    "                for dmg_type, ix in train_dataset.DAMAGE_CLASSES.items():\n",
    "                    for k,v in batch_metrics(post_out[:,ix], post_targets[:,ix]).items():\n",
    "                        metrics[f'dmg_{dmg_type}_{k}'] += v\n",
    "                        macro_metrics[k] += v\n",
    "                for k, v in macro_metrics.items():\n",
    "                    metrics[f'dmg_macro_{k}'] += v/len(train_dataset.DAMAGE_CLASSES)\n",
    "            \n",
    "            if eval_pre and eval_post:\n",
    "                loss /= conf.pre_weight+conf.post_weight\n",
    "            \n",
    "            \n",
    "            metrics['loss'] += loss\n",
    "\n",
    "    return {k:v/len(data) for k, v in metrics.items()}"
   ]
  },
  {
   "cell_type": "code",
   "execution_count": null,
   "metadata": {},
   "outputs": [],
   "source": [
    "conf.epochs = 140\n",
    "best_loss = 1e5\n",
    "epoch = 0"
   ]
  },
  {
   "cell_type": "code",
   "execution_count": null,
   "metadata": {},
   "outputs": [],
   "source": [
    "for epoch in range(epoch, conf.epochs):\n",
    "    metrics = {'epoch':epoch}\n",
    "    metrics.update(({f'train_{k}':v for k,v in train(model, optim, train_loader, loss, train_pre=conf.train_pre, train_post=conf.train_post).items()}))\n",
    "    metrics.update(evaluate(model, optim, dev_loader, loss, eval_pre=conf.train_pre, eval_post=conf.train_post))\n",
    "    scheduler.step(metrics['loss'])\n",
    "    wandb.log(metrics)\n",
    "    if metrics['loss'] < best_loss:\n",
    "        torch.save(model.state_dict(), os.path.join(wandb.run.dir, \"state_dict.pth\"))\n",
    "        best_loss = metrics['loss']"
   ]
  },
  {
   "cell_type": "code",
   "execution_count": null,
   "metadata": {},
   "outputs": [],
   "source": [
    "ix = 1000\n",
    "i = train_dataset[ix]\n",
    "images, masks = i['images'], i['masks']\n",
    "image = images['post']\n",
    "image = np.array(train_dataset.inverse_transform_image(image))\n",
    "\n",
    "util.vis_im_mask(image, masks['damage'], size=(512*2,512*2), opacity=.3);"
   ]
  },
  {
   "cell_type": "code",
   "execution_count": null,
   "metadata": {},
   "outputs": [],
   "source": [
    "from collections import Counter\n",
    "counts = Counter(len(i['pre']['features']) for i in train_dataset.instances)"
   ]
  },
  {
   "cell_type": "code",
   "execution_count": null,
   "metadata": {},
   "outputs": [],
   "source": [
    "counts[0]/sum(counts.values())"
   ]
  },
  {
   "cell_type": "code",
   "execution_count": null,
   "metadata": {},
   "outputs": [],
   "source": [
    "sorted(dict(conf).items())"
   ]
  },
  {
   "cell_type": "code",
   "execution_count": null,
   "metadata": {},
   "outputs": [],
   "source": []
  }
 ],
 "metadata": {
  "kernelspec": {
   "display_name": "Python 3",
   "language": "python",
   "name": "python3"
  },
  "language_info": {
   "codemirror_mode": {
    "name": "ipython",
    "version": 3
   },
   "file_extension": ".py",
   "mimetype": "text/x-python",
   "name": "python",
   "nbconvert_exporter": "python",
   "pygments_lexer": "ipython3",
   "version": "3.6.7"
  }
 },
 "nbformat": 4,
 "nbformat_minor": 4
}
