{
 "cells": [
  {
   "cell_type": "code",
   "execution_count": null,
   "metadata": {},
   "outputs": [],
   "source": [
    "%load_ext autoreload\n",
    "%autoreload 2"
   ]
  },
  {
   "cell_type": "code",
   "execution_count": null,
   "metadata": {},
   "outputs": [],
   "source": [
    "import wandb\n",
    "from xv import io\n",
    "import torch\n",
    "from tqdm import tqdm_notebook as tqdm\n",
    "from datetime import datetime\n",
    "import os"
   ]
  },
  {
   "cell_type": "code",
   "execution_count": null,
   "metadata": {},
   "outputs": [],
   "source": [
    "test_dir = '../../datasets/xview/test'\n",
    "submission_dir = f\"../submissions/{str(datetime.now()).replace(' ', '_').replace(':', '-')}\"\n",
    "os.mkdir(submission_dir)"
   ]
  },
  {
   "cell_type": "code",
   "execution_count": null,
   "metadata": {},
   "outputs": [],
   "source": [
    "seg_run_id = \"qoijsx0h\"\n",
    "dmg_run_id = \"rcndcpcc\""
   ]
  },
  {
   "cell_type": "code",
   "execution_count": null,
   "metadata": {},
   "outputs": [],
   "source": [
    "seg_run_path = f\"xvr-hlt/sky-eye-full/{seg_run_id}\"\n",
    "conf_file = wandb.restore('config.yaml', run_path=seg_run_path).name\n",
    "state_file = wandb.restore('state_dict.pth', run_path=seg_run_path).name\n",
    "model, preprocess_fn = io.load_segmentation_model(conf_file, state_file)"
   ]
  },
  {
   "cell_type": "code",
   "execution_count": null,
   "metadata": {},
   "outputs": [],
   "source": [
    "import ttach as tta\n",
    "model = tta.SegmentationTTAWrapper(model, tta.aliases.d4_transform(), merge_mode='mean')"
   ]
  },
  {
   "cell_type": "code",
   "execution_count": null,
   "metadata": {},
   "outputs": [],
   "source": [
    "from glob import glob\n",
    "pre_files = glob(f\"{test_dir}/images/*pre*\")"
   ]
  },
  {
   "cell_type": "code",
   "execution_count": null,
   "metadata": {},
   "outputs": [],
   "source": [
    "with torch.no_grad():\n",
    "    for f in tqdm(pre_files):\n",
    "        i = load_img(f, preprocess_fn)\n",
    "        out = model(i.cuda())[0][0] > 0.5\n",
    "        out = out.cpu().numpy()\n",
    "        fid = f.split('_')[-1].replace(\".png\", \"\")\n",
    "        Image.fromarray(out).save(f\"{submission_dir}/test_localization_{fid}_prediction.png\")"
   ]
  },
  {
   "cell_type": "code",
   "execution_count": null,
   "metadata": {},
   "outputs": [],
   "source": [
    "dmg_run_path = f\"xvr-hlt/building-damage/{dmg_run_id}\"\n",
    "dmg_conf_file = wandb.restore('config.yaml', run_path=dmg_run_path, replace=True).name\n",
    "dmg_state_file = wandb.restore('state_dict.pth', run_path=dmg_run_path, replace=True).name"
   ]
  },
  {
   "cell_type": "code",
   "execution_count": null,
   "metadata": {},
   "outputs": [],
   "source": [
    "post_files = glob(f\"{test_dir}/images/*post*\")"
   ]
  },
  {
   "cell_type": "code",
   "execution_count": null,
   "metadata": {},
   "outputs": [],
   "source": [
    "dmg_model = io.load_damage_model(dmg_conf_file, dmg_state_file)"
   ]
  },
  {
   "cell_type": "code",
   "execution_count": null,
   "metadata": {},
   "outputs": [],
   "source": [
    "import cv2\n",
    "from imantics import Polygons\n",
    "\n",
    "for f in tqdm(post_files):\n",
    "    fid = f.split('_')[-1].replace(\".png\", \"\")\n",
    "    mask_file = f\"{submission_dir}/test_localization_{fid}_prediction.png\"\n",
    "    msk = np.array(Image.open(mask_file))\n",
    "    polys = Polygons.from_mask(msk)\n",
    "    \n",
    "    polypoints = polys.points\n",
    "    if polypoints:\n",
    "        with torch.no_grad():\n",
    "            boxes = torch.Tensor([[min(p[:,0]), min(p[:,1]), max(p[:,0]), max(p[:,1])] for p in polypoints])\n",
    "            inp = load_dmg_img(f)\n",
    "            out = dmg_model(inp.cuda(), [boxes.cuda()])\n",
    "            classes = (out.argmax(1) + 1).cpu().numpy()\n",
    "    else:\n",
    "        classes = []\n",
    "\n",
    "    msk_dmg = np.zeros((1024, 1024), dtype=np.uint8)\n",
    "    \n",
    "    for poly, cls in zip(polypoints, classes):\n",
    "        cv2.fillPoly(msk_dmg, [poly], int(cls))\n",
    "\n",
    "    Image.fromarray(msk_dmg).save(f\"{submission_dir}/test_damage_{fid}_prediction.png\")"
   ]
  },
  {
   "cell_type": "code",
   "execution_count": null,
   "metadata": {},
   "outputs": [],
   "source": [
    "_split = submission_dir.rfind('/') + 1\n",
    "root, subdir = submission_dir[:_split], submission_dir[_split:]\n",
    "\n",
    "! cd \"{root}\" && zip -r \"{subdir}.zip\" \"{subdir}/\""
   ]
  },
  {
   "cell_type": "code",
   "execution_count": null,
   "metadata": {},
   "outputs": [],
   "source": []
  },
  {
   "cell_type": "code",
   "execution_count": null,
   "metadata": {},
   "outputs": [],
   "source": []
  }
 ],
 "metadata": {
  "kernelspec": {
   "display_name": "Python 3",
   "language": "python",
   "name": "python3"
  },
  "language_info": {
   "codemirror_mode": {
    "name": "ipython",
    "version": 3
   },
   "file_extension": ".py",
   "mimetype": "text/x-python",
   "name": "python",
   "nbconvert_exporter": "python",
   "pygments_lexer": "ipython3",
   "version": "3.6.7"
  }
 },
 "nbformat": 4,
 "nbformat_minor": 2
}
