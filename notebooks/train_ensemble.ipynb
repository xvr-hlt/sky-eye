{
 "cells": [
  {
   "cell_type": "code",
   "execution_count": 28,
   "metadata": {},
   "outputs": [
    {
     "data": {
      "text/plain": [
       "{'qoijsx0h_kx9yzcb9_1': [{'localization_kwargs': {'run_ids': ['8bh5rurv',\n",
       "     'cnqyhmsb',\n",
       "     'ri1dvvam',\n",
       "     'ilhz9vkq'],\n",
       "    'thresh': 0.2},\n",
       "   'damage_kwargs': {'damseg_ids': ['tyi7q17m',\n",
       "     'ngmxec6s',\n",
       "     'vrgbzaup',\n",
       "     '443t9312',\n",
       "     'pxcuoulb'],\n",
       "    'damod_ids': ['kx9yzcb9', 'y7n4yzya', 'c1lit0gf'],\n",
       "    'seg_mean_ag': True}},\n",
       "  {'localization_kwargs': {'run_ids': ['qoijsx0h'], 'thresh': 0.5},\n",
       "   'damage_kwargs': {'damseg_ids': ['kx9yzcb9'],\n",
       "    'damod_ids': [],\n",
       "    'seg_mean_ag': True}}]}"
      ]
     },
     "execution_count": 28,
     "metadata": {},
     "output_type": "execute_result"
    }
   ],
   "source": [
    "{\n",
    "    'qoijsx0h_kx9yzcb9_1': \n",
    "    [{\n",
    "        'localization_kwargs': {\n",
    "                 'run_ids': ['8bh5rurv', 'cnqyhmsb', 'ri1dvvam', 'ilhz9vkq'],\n",
    "                 'thresh': 0.2\n",
    "             },\n",
    "             'damage_kwargs': {\n",
    "                 'damseg_ids': ['tyi7q17m','ngmxec6s', 'vrgbzaup', '443t9312', 'pxcuoulb'],\n",
    "                 'damod_ids': ['kx9yzcb9', 'y7n4yzya', 'c1lit0gf'],\n",
    "                 'seg_mean_ag': True\n",
    "             }\n",
    "         },\n",
    "         {\n",
    "             'localization_kwargs': {\n",
    "                 'run_ids': ['qoijsx0h'],\n",
    "                 'thresh': 0.5\n",
    "             },\n",
    "             'damage_kwargs': {\n",
    "                 'damseg_ids': ['kx9yzcb9'],\n",
    "                 'damod_ids': [],\n",
    "                 'seg_mean_ag': True\n",
    "             }\n",
    "         }]\n",
    "        }"
   ]
  },
  {
   "cell_type": "code",
   "execution_count": null,
   "metadata": {},
   "outputs": [],
   "source": []
  },
  {
   "cell_type": "code",
   "execution_count": null,
   "metadata": {},
   "outputs": [],
   "source": []
  },
  {
   "cell_type": "code",
   "execution_count": null,
   "metadata": {},
   "outputs": [],
   "source": []
  },
  {
   "cell_type": "code",
   "execution_count": null,
   "metadata": {},
   "outputs": [],
   "source": []
  },
  {
   "cell_type": "code",
   "execution_count": null,
   "metadata": {},
   "outputs": [],
   "source": []
  },
  {
   "cell_type": "code",
   "execution_count": 1,
   "metadata": {},
   "outputs": [],
   "source": [
    "post = '/home/jupyter/datasets/xview/train/images/guatemala-volcano_00000000_post_disaster.png'\n",
    "pre = '/home/jupyter/datasets/xview/train/images/guatemala-volcano_00000000_pre_disaster.png'"
   ]
  },
  {
   "cell_type": "code",
   "execution_count": null,
   "metadata": {},
   "outputs": [],
   "source": []
  },
  {
   "cell_type": "code",
   "execution_count": 2,
   "metadata": {},
   "outputs": [],
   "source": [
    "from PIL import Image\n",
    "import numpy as np\n",
    "import torch\n",
    "\n",
    "import torch\n",
    "torch.set_num_threads(1)"
   ]
  },
  {
   "cell_type": "code",
   "execution_count": 3,
   "metadata": {},
   "outputs": [
    {
     "data": {
      "text/plain": [
       "('ilhz9vkq', 0.883250892162323)"
      ]
     },
     "execution_count": 3,
     "metadata": {},
     "output_type": "execute_result"
    }
   ],
   "source": [
    "('8bh5rurv', 0.8848695158958435) \n",
    "('cnqyhmsb', 0.8836771249771118)\n",
    "('ri1dvvam', 0.8832937479019165)\n",
    "('ilhz9vkq', 0.883250892162323)"
   ]
  },
  {
   "cell_type": "code",
   "execution_count": 149,
   "metadata": {},
   "outputs": [
    {
     "name": "stdout",
     "output_type": "stream",
     "text": [
      "Automatic pdb calling has been turned ON\n"
     ]
    }
   ],
   "source": [
    "%pdb on"
   ]
  },
  {
   "cell_type": "code",
   "execution_count": 150,
   "metadata": {},
   "outputs": [],
   "source": [
    "mm = ModelManager(device='cuda')"
   ]
  },
  {
   "cell_type": "code",
   "execution_count": 151,
   "metadata": {},
   "outputs": [],
   "source": [
    "im = mm.load_img(post)"
   ]
  },
  {
   "cell_type": "code",
   "execution_count": 152,
   "metadata": {},
   "outputs": [
    {
     "name": "stderr",
     "output_type": "stream",
     "text": [
      "WARNING:root:Attribute deform_layers not found in conf.\n"
     ]
    },
    {
     "name": "stdout",
     "output_type": "stream",
     "text": [
      "<All keys matched successfully>\n"
     ]
    }
   ],
   "source": [
    "prob_out = mm.predict_seg_dam(im, localization, mm.DAMSEG_IDS[0])"
   ]
  },
  {
   "cell_type": "code",
   "execution_count": 153,
   "metadata": {},
   "outputs": [
    {
     "name": "stdout",
     "output_type": "stream",
     "text": [
      "<All keys matched successfully>\n"
     ]
    }
   ],
   "source": [
    "prob_out = mm.predict_seg_od(im, localization, mm.DAMOD_IDS[0])"
   ]
  },
  {
   "cell_type": "code",
   "execution_count": null,
   "metadata": {},
   "outputs": [],
   "source": []
  },
  {
   "cell_type": "code",
   "execution_count": 100,
   "metadata": {},
   "outputs": [],
   "source": [
    "ar = np.zeros((4,10))"
   ]
  },
  {
   "cell_type": "code",
   "execution_count": 101,
   "metadata": {},
   "outputs": [
    {
     "ename": "ValueError",
     "evalue": "shape mismatch: value array of shape (4,) could not be broadcast to indexing result of shape (3,4)",
     "output_type": "error",
     "traceback": [
      "\u001b[0;31m---------------------------------------------------------------------------\u001b[0m",
      "\u001b[0;31mValueError\u001b[0m                                Traceback (most recent call last)",
      "\u001b[0;32m<ipython-input-101-a56b17761017>\u001b[0m in \u001b[0;36m<module>\u001b[0;34m\u001b[0m\n\u001b[0;32m----> 1\u001b[0;31m \u001b[0mar\u001b[0m\u001b[0;34m[\u001b[0m\u001b[0;34m:\u001b[0m\u001b[0;34m,\u001b[0m\u001b[0;34m[\u001b[0m\u001b[0;36m0\u001b[0m\u001b[0;34m,\u001b[0m\u001b[0;36m1\u001b[0m\u001b[0;34m,\u001b[0m\u001b[0;36m2\u001b[0m\u001b[0;34m]\u001b[0m\u001b[0;34m]\u001b[0m \u001b[0;34m=\u001b[0m \u001b[0;34m(\u001b[0m\u001b[0;36m1\u001b[0m\u001b[0;34m,\u001b[0m\u001b[0;36m2\u001b[0m\u001b[0;34m,\u001b[0m\u001b[0;36m3\u001b[0m\u001b[0;34m,\u001b[0m\u001b[0;36m5\u001b[0m\u001b[0;34m)\u001b[0m\u001b[0;34m\u001b[0m\u001b[0;34m\u001b[0m\u001b[0m\n\u001b[0m",
      "\u001b[0;31mValueError\u001b[0m: shape mismatch: value array of shape (4,) could not be broadcast to indexing result of shape (3,4)"
     ]
    },
    {
     "name": "stdout",
     "output_type": "stream",
     "text": [
      "> \u001b[0;32m<ipython-input-101-a56b17761017>\u001b[0m(1)\u001b[0;36m<module>\u001b[0;34m()\u001b[0m\n",
      "\u001b[0;32m----> 1 \u001b[0;31m\u001b[0mar\u001b[0m\u001b[0;34m[\u001b[0m\u001b[0;34m:\u001b[0m\u001b[0;34m,\u001b[0m\u001b[0;34m[\u001b[0m\u001b[0;36m0\u001b[0m\u001b[0;34m,\u001b[0m\u001b[0;36m1\u001b[0m\u001b[0;34m,\u001b[0m\u001b[0;36m2\u001b[0m\u001b[0;34m]\u001b[0m\u001b[0;34m]\u001b[0m \u001b[0;34m=\u001b[0m \u001b[0;34m(\u001b[0m\u001b[0;36m1\u001b[0m\u001b[0;34m,\u001b[0m\u001b[0;36m2\u001b[0m\u001b[0;34m,\u001b[0m\u001b[0;36m3\u001b[0m\u001b[0;34m,\u001b[0m\u001b[0;36m5\u001b[0m\u001b[0;34m)\u001b[0m\u001b[0;34m\u001b[0m\u001b[0;34m\u001b[0m\u001b[0m\n",
      "\u001b[0m\n"
     ]
    },
    {
     "name": "stdin",
     "output_type": "stream",
     "text": [
      "ipdb>  q\n"
     ]
    }
   ],
   "source": [
    "ar[:,[0,1,2]] = (1,2,3,5)"
   ]
  },
  {
   "cell_type": "code",
   "execution_count": null,
   "metadata": {},
   "outputs": [],
   "source": []
  },
  {
   "cell_type": "code",
   "execution_count": 67,
   "metadata": {},
   "outputs": [
    {
     "data": {
      "text/plain": [
       "array([0.868465  , 0.4529124 , 0.26270437, 0.20301004], dtype=float32)"
      ]
     },
     "execution_count": 67,
     "metadata": {},
     "output_type": "execute_result"
    }
   ],
   "source": [
    "prob_out[:,0,0]"
   ]
  },
  {
   "cell_type": "code",
   "execution_count": 33,
   "metadata": {},
   "outputs": [
    {
     "name": "stderr",
     "output_type": "stream",
     "text": [
      "WARNING:root:Attribute deform_layers not found in conf.\n",
      "WARNING:root:Attribute dual_input not found in conf.\n"
     ]
    },
    {
     "name": "stdout",
     "output_type": "stream",
     "text": [
      "<All keys matched successfully>\n"
     ]
    },
    {
     "name": "stderr",
     "output_type": "stream",
     "text": [
      "WARNING:root:Attribute deform_layers not found in conf.\n",
      "WARNING:root:Attribute dual_input not found in conf.\n"
     ]
    },
    {
     "name": "stdout",
     "output_type": "stream",
     "text": [
      "<All keys matched successfully>\n"
     ]
    },
    {
     "name": "stderr",
     "output_type": "stream",
     "text": [
      "WARNING:root:Attribute deform_layers not found in conf.\n",
      "WARNING:root:Attribute dual_input not found in conf.\n"
     ]
    },
    {
     "name": "stdout",
     "output_type": "stream",
     "text": [
      "<All keys matched successfully>\n"
     ]
    },
    {
     "name": "stderr",
     "output_type": "stream",
     "text": [
      "WARNING:root:Attribute deform_layers not found in conf.\n",
      "WARNING:root:Attribute dual_input not found in conf.\n"
     ]
    },
    {
     "name": "stdout",
     "output_type": "stream",
     "text": [
      "<All keys matched successfully>\n",
      "CPU times: user 9.68 s, sys: 2.14 s, total: 11.8 s\n",
      "Wall time: 12.8 s\n"
     ]
    }
   ],
   "source": [
    "%time localization = mm.predict_localization(pre, post, mm.LOCALIZATION_IDS, 0.175)"
   ]
  },
  {
   "cell_type": "code",
   "execution_count": null,
   "metadata": {},
   "outputs": [],
   "source": []
  },
  {
   "cell_type": "code",
   "execution_count": null,
   "metadata": {},
   "outputs": [],
   "source": []
  },
  {
   "cell_type": "code",
   "execution_count": 22,
   "metadata": {},
   "outputs": [],
   "source": []
  },
  {
   "cell_type": "code",
   "execution_count": 22,
   "metadata": {},
   "outputs": [],
   "source": [
    "run_id = '8bh5rurv'\n",
    "path = f'{mm.base_dir}/loc/{run_id}'"
   ]
  },
  {
   "cell_type": "code",
   "execution_count": null,
   "metadata": {},
   "outputs": [],
   "source": [
    "('kx9yzcb9', 0.8188149291818385),\n",
    "('y7n4yzya', 0.808878301295482),\n",
    "('c1lit0gf', 0.8086308781844662),"
   ]
  },
  {
   "cell_type": "code",
   "execution_count": 24,
   "metadata": {},
   "outputs": [
    {
     "name": "stderr",
     "output_type": "stream",
     "text": [
      "WARNING:root:Attribute deform_layers not found in conf.\n",
      "WARNING:root:Attribute dual_input not found in conf.\n"
     ]
    },
    {
     "name": "stdout",
     "output_type": "stream",
     "text": [
      "<All keys matched successfully>\n",
      "CPU times: user 41.3 s, sys: 6.18 s, total: 47.4 s\n",
      "Wall time: 19 s\n"
     ]
    }
   ],
   "source": [
    "%time mod = mm.predict_seg(mm.load_img(pre), None, '8bh5rurv')"
   ]
  },
  {
   "cell_type": "code",
   "execution_count": 28,
   "metadata": {},
   "outputs": [
    {
     "data": {
      "text/plain": [
       "(1, 1, 1024, 1024)"
      ]
     },
     "execution_count": 28,
     "metadata": {},
     "output_type": "execute_result"
    }
   ],
   "source": [
    "mod.shape"
   ]
  },
  {
   "cell_type": "code",
   "execution_count": 15,
   "metadata": {},
   "outputs": [
    {
     "name": "stderr",
     "output_type": "stream",
     "text": [
      "WARNING:root:Attribute deform_layers not found in conf.\n",
      "WARNING:root:Attribute dual_input not found in conf.\n"
     ]
    },
    {
     "name": "stdout",
     "output_type": "stream",
     "text": [
      "<All keys matched successfully>\n",
      "CPU times: user 27.9 s, sys: 6.62 s, total: 34.5 s\n",
      "Wall time: 9.08 s\n"
     ]
    }
   ],
   "source": [
    "%time out = mm.predict_seg(mm.load_img(pre), None, '8bh5rurv')"
   ]
  },
  {
   "cell_type": "code",
   "execution_count": 23,
   "metadata": {},
   "outputs": [],
   "source": [
    "localization = localization.astype(np.uint8)"
   ]
  },
  {
   "cell_type": "code",
   "execution_count": null,
   "metadata": {},
   "outputs": [],
   "source": []
  },
  {
   "cell_type": "code",
   "execution_count": null,
   "metadata": {},
   "outputs": [],
   "source": []
  },
  {
   "cell_type": "code",
   "execution_count": null,
   "metadata": {},
   "outputs": [],
   "source": [
    "# segment\n",
    "('8bh5rurv', 0.8848695158958435) \n",
    "('cnqyhmsb', 0.8836771249771118)\n",
    "('ri1dvvam', 0.8832937479019165)\n",
    "('ilhz9vkq', 0.883250892162323)"
   ]
  },
  {
   "cell_type": "code",
   "execution_count": 32,
   "metadata": {},
   "outputs": [],
   "source": [
    "def predict_proba_loc(pre, post, run_id):\n",
    "    pass\n",
    "\n",
    "def predict_proba_dam(pre, post, loc, run_id):\n",
    "    pass\n",
    "\n",
    "def predict_proba_dam_od(pre, post, loc, run_id):\n",
    "    pass\n",
    "\n",
    "def predict(pre, post):\n",
    "    pass"
   ]
  },
  {
   "cell_type": "code",
   "execution_count": 9,
   "metadata": {},
   "outputs": [],
   "source": [
    "%load_ext autoreload\n",
    "%autoreload 2\n",
    "\n",
    "import wandb"
   ]
  },
  {
   "cell_type": "code",
   "execution_count": 10,
   "metadata": {},
   "outputs": [],
   "source": [
    "seg_runs = [\n",
    "    ('8bh5rurv', 0.8848695158958435),\n",
    "    ('cnqyhmsb', 0.8836771249771118),\n",
    "    ('ri1dvvam', 0.8832937479019165),\n",
    "    ('ilhz9vkq', 0.883250892162323),\n",
    "    ('dhmhz041', 0.8829216957092285),\n",
    "    ('7mrir9a3', 0.8828873634338379),\n",
    "    ('yzmxfvrv', 0.8828799724578857),\n",
    "    ('5ywrt6qn', 0.882686972618103),\n",
    "    ('ighbwtdm', 0.8826081156730652),\n",
    "    ('315hd0sm', 0.8825200796127319),\n",
    "    ('y2jgqdox', 0.8821526169776917),\n",
    "    ('xr44njvv', 0.8815780282020569),\n",
    "    ('mb22v5ps', 0.8812705874443054),\n",
    "    ('q6d1n08d', 0.8809899091720581),\n",
    "    ('37y0hk18', 0.8808367848396301),\n",
    "    ('3ag6fjep', 0.8806321024894714),\n",
    "    ('uevn0e5g', 0.8803757429122925),\n",
    "    ('0en8eomx', 0.8799382448196411),\n",
    "    ('o0wao11j', 0.8796645998954773),\n",
    "    ('4qrallkn', 0.8785540461540222),\n",
    "    ('6vya7uxd', 0.8780744671821594),\n",
    "    ('rwa0acur', 0.8775778412818909),\n",
    "    ('qoijsx0h', 0.8775392770767212),\n",
    "    ('l1hf5uuh', 0.8767494559288025),\n",
    "    ('ebwyd2di', 0.8765263557434082),\n",
    "    ('6g0nkv0j', 0.8760395646095276),\n",
    "    ('ph4c64ar', 0.8760202527046204),\n",
    "    ('amkk3cbw', 0.8735491037368774),\n",
    "    ('c1dlbdub', 0.8734628558158875),\n",
    "    ('hiinbqsu', 0.8719046115875244)\n",
    "]\n",
    "\n",
    "seg_dam_runs = [\n",
    "    ('tyi7q17m', 0.8150793196256518),\n",
    "    ('ngmxec6s', 0.8096530334019485),\n",
    "    ('vrgbzaup', 0.8096383585083926),\n",
    "    ('443t9312', 0.8083381310832123),\n",
    "    ('pxcuoulb', 0.8081565006839244),\n",
    "    ('cpumt46r', 0.8080391959243641),\n",
    "    ('viptnxip', 0.8076960005628842),\n",
    "    ('mhczmsoa', 0.8073159432491346),\n",
    "    ('znxzcx0a', 0.8072744354969165),\n",
    "    ('7ar6am07', 0.8071092834046755),\n",
    "    ('lwe6n5c0', 0.8069356023059625),\n",
    "    ('90mnu920', 0.8069068799555296),\n",
    "    ('08meqrfc', 0.806507592996532),\n",
    "    ('j4xmz3we', 0.8061300715307924),\n",
    "    ('5ocdy37k', 0.806018066403344),\n",
    "    ('5pn3bp2o', 0.8057287190805172),\n",
    "    ('0gvvydkt', 0.8057094304994589),\n",
    "    ('or34wjnl', 0.8056978455958853),\n",
    "    ('8n17nhye', 0.8053004703929182),\n",
    "    ('c2hvohg7', 0.8050853487741387),\n",
    "    ('33aasxzr', 0.8048996430920557),\n",
    "    ('40l1n8y6', 0.804133361539285),\n",
    "    ('8slg69rb', 0.8039897395816178),\n",
    "    ('yzy5xz0v', 0.8037504662087867),\n",
    "    ('71urz3vc', 0.803504510967261),\n",
    "    ('plef5k0s', 0.8033634254385499),\n",
    "    ('rfu2ifuh', 0.8031063433726832),\n",
    "    ('5zu1m3bn', 0.8028573049710269),\n",
    "    ('nj4eqar6', 0.8022980617768509),\n",
    "    ('95pmh37c', 0.8022721609563958)\n",
    "]\n",
    "\n",
    "dam_od_runs = [\n",
    "    ('kx9yzcb9', 0.8188149291818385),\n",
    "    ('y7n4yzya', 0.808878301295482),\n",
    "    ('c1lit0gf', 0.8086308781844662),\n",
    "    ('ygnsmpis', 0.8047019871807307),\n",
    "    ('5v3elkfr', 0.8026197042480495),\n",
    "    ('0qjy2h9e', 0.8011403695871695),\n",
    "    ('6s629jji', 0.7983212991363049),\n",
    "    ('umj3wmwh', 0.7972560052280561),\n",
    "    ('phtv4ekc', 0.7952364835570059),\n",
    "    ('ypydqpw5', 0.7950183345724261),\n",
    "    ('9bv7h3cw', 0.7941133157892892),\n",
    "    ('w8ka9fat', 0.7932566433728835),\n",
    "    ('zu0uhkyk', 0.7921109978206695)\n",
    "]"
   ]
  },
  {
   "cell_type": "code",
   "execution_count": null,
   "metadata": {},
   "outputs": [],
   "source": []
  },
  {
   "cell_type": "code",
   "execution_count": null,
   "metadata": {},
   "outputs": [],
   "source": []
  },
  {
   "cell_type": "code",
   "execution_count": null,
   "metadata": {},
   "outputs": [],
   "source": []
  },
  {
   "cell_type": "code",
   "execution_count": null,
   "metadata": {},
   "outputs": [],
   "source": []
  },
  {
   "cell_type": "markdown",
   "metadata": {},
   "source": [
    "## Building Ensemble"
   ]
  },
  {
   "cell_type": "code",
   "execution_count": 11,
   "metadata": {},
   "outputs": [],
   "source": [
    "import numpy as np"
   ]
  },
  {
   "cell_type": "code",
   "execution_count": 14,
   "metadata": {},
   "outputs": [],
   "source": [
    "TOP_DAM_SEG = 5\n",
    "\n",
    "seg_dam_ids = [r_id for r_id, _ in seg_dam_runs[:TOP_DAM_SEG]]"
   ]
  },
  {
   "cell_type": "code",
   "execution_count": 5,
   "metadata": {},
   "outputs": [
    {
     "data": {
      "application/vnd.jupyter.widget-view+json": {
       "model_id": "46ff989645fc4a858ec5ae59e63ca64f",
       "version_major": 2,
       "version_minor": 0
      },
      "text/plain": [
       "HBox(children=(IntProgress(value=0, max=4), HTML(value='')))"
      ]
     },
     "metadata": {},
     "output_type": "display_data"
    },
    {
     "name": "stdout",
     "output_type": "stream",
     "text": [
      "\n"
     ]
    }
   ],
   "source": [
    "from tqdm.notebook import tqdm\n",
    "y_d = np.load('../dev/damage.npy')\n",
    "y_d += 1\n",
    "\n",
    "y_d_pred = np.load(f'../dev/segment-damage/{seg_dam_ids[0]}.npy')\n",
    "y_d_pred /= y_d_pred.sum(1, keepdims=True)\n",
    "\n",
    "for run_id in tqdm(seg_dam_ids[1:]):\n",
    "    probs = np.load(f'../dev/segment-damage/{run_id}.npy')\n",
    "    probs /= probs.sum(1, keepdims=True)\n",
    "    y_d_pred += probs\n",
    "del probs\n",
    "y_d_pred /= len(seg_dam_ids)\n",
    "#y_d_pred = y_d_pred.argmax(1)\n",
    "#y_d_pred += 1"
   ]
  },
  {
   "cell_type": "code",
   "execution_count": 40,
   "metadata": {},
   "outputs": [],
   "source": [
    "msk_dmg = y_d_pred.argmax(1) + 1"
   ]
  },
  {
   "cell_type": "code",
   "execution_count": null,
   "metadata": {},
   "outputs": [],
   "source": []
  },
  {
   "cell_type": "code",
   "execution_count": 13,
   "metadata": {},
   "outputs": [],
   "source": [
    "TOP_DAM_OD = 4\n",
    "dam_od_ids = [r_id for r_id, _ in dam_od_runs[:TOP_DAM_OD]]"
   ]
  },
  {
   "cell_type": "code",
   "execution_count": 7,
   "metadata": {},
   "outputs": [
    {
     "data": {
      "application/vnd.jupyter.widget-view+json": {
       "model_id": "39e203384abd41b59bb90c9a102699ea",
       "version_major": 2,
       "version_minor": 0
      },
      "text/plain": [
       "HBox(children=(IntProgress(value=0, max=4), HTML(value='')))"
      ]
     },
     "metadata": {},
     "output_type": "display_data"
    },
    {
     "name": "stderr",
     "output_type": "stream",
     "text": [
      "/opt/anaconda3/lib/python3.7/site-packages/IPython/core/interactiveshell.py:3249: FutureWarning: arrays to stack must be passed as a \"sequence\" type such as list or tuple. Support for non-sequence iterables such as generators is deprecated as of NumPy 1.16 and will raise an error in the future.\n",
      "  if (await self.run_code(code, result,  async_=asy)):\n"
     ]
    },
    {
     "name": "stdout",
     "output_type": "stream",
     "text": [
      "\n"
     ]
    }
   ],
   "source": [
    "y_d_preds = np.stack([\n",
    "    np.load(f'../dev/y_pred/damage-od/{run_id}.npy')\n",
    "] for run_id in tqdm(dam_od_ids))"
   ]
  },
  {
   "cell_type": "code",
   "execution_count": 8,
   "metadata": {},
   "outputs": [],
   "source": [
    "top_n = 2"
   ]
  },
  {
   "cell_type": "code",
   "execution_count": 11,
   "metadata": {},
   "outputs": [
    {
     "data": {
      "text/plain": [
       "(2, 280, 1024, 1024, 1)"
      ]
     },
     "execution_count": 11,
     "metadata": {},
     "output_type": "execute_result"
    }
   ],
   "source": [
    "od_msk.sum(-1, keepdims=True).shape"
   ]
  },
  {
   "cell_type": "code",
   "execution_count": 18,
   "metadata": {},
   "outputs": [
    {
     "ename": "MemoryError",
     "evalue": "Unable to allocate array with shape (4, 280, 1024, 1024, 4) and data type float32",
     "output_type": "error",
     "traceback": [
      "\u001b[0;31m---------------------------------------------------------------------------\u001b[0m",
      "\u001b[0;31mMemoryError\u001b[0m                               Traceback (most recent call last)",
      "\u001b[0;32m<ipython-input-18-7a87f5f0185a>\u001b[0m in \u001b[0;36m<module>\u001b[0;34m\u001b[0m\n\u001b[1;32m      1\u001b[0m \u001b[0mtop_n\u001b[0m \u001b[0;34m=\u001b[0m \u001b[0;36m4\u001b[0m\u001b[0;34m\u001b[0m\u001b[0;34m\u001b[0m\u001b[0m\n\u001b[1;32m      2\u001b[0m \u001b[0mod_msk\u001b[0m \u001b[0;34m=\u001b[0m \u001b[0my_d_preds\u001b[0m\u001b[0;34m[\u001b[0m\u001b[0;34m:\u001b[0m\u001b[0mtop_n\u001b[0m\u001b[0;34m,\u001b[0m\u001b[0;36m0\u001b[0m\u001b[0;34m]\u001b[0m\u001b[0;34m\u001b[0m\u001b[0;34m\u001b[0m\u001b[0m\n\u001b[0;32m----> 3\u001b[0;31m \u001b[0mod_msk\u001b[0m \u001b[0;34m=\u001b[0m \u001b[0;34m(\u001b[0m\u001b[0mod_msk\u001b[0m\u001b[0;34m/\u001b[0m\u001b[0mod_msk\u001b[0m\u001b[0;34m.\u001b[0m\u001b[0msum\u001b[0m\u001b[0;34m(\u001b[0m\u001b[0;34m-\u001b[0m\u001b[0;36m1\u001b[0m\u001b[0;34m,\u001b[0m \u001b[0mkeepdims\u001b[0m\u001b[0;34m=\u001b[0m\u001b[0;32mTrue\u001b[0m\u001b[0;34m)\u001b[0m\u001b[0;34m)\u001b[0m\u001b[0;34m.\u001b[0m\u001b[0mmean\u001b[0m\u001b[0;34m(\u001b[0m\u001b[0;36m0\u001b[0m\u001b[0;34m)\u001b[0m\u001b[0;34m.\u001b[0m\u001b[0mtranspose\u001b[0m\u001b[0;34m(\u001b[0m\u001b[0;36m0\u001b[0m\u001b[0;34m,\u001b[0m\u001b[0;36m3\u001b[0m\u001b[0;34m,\u001b[0m\u001b[0;36m1\u001b[0m\u001b[0;34m,\u001b[0m\u001b[0;36m2\u001b[0m\u001b[0;34m)\u001b[0m\u001b[0;34m\u001b[0m\u001b[0;34m\u001b[0m\u001b[0m\n\u001b[0m\u001b[1;32m      4\u001b[0m \u001b[0;34m\u001b[0m\u001b[0m\n\u001b[1;32m      5\u001b[0m \u001b[0mmsk_dmg\u001b[0m \u001b[0;34m=\u001b[0m \u001b[0;34m(\u001b[0m\u001b[0;34m(\u001b[0m\u001b[0mlen\u001b[0m\u001b[0;34m(\u001b[0m\u001b[0mseg_dam_ids\u001b[0m\u001b[0;34m)\u001b[0m\u001b[0;34m*\u001b[0m\u001b[0my_d_pred\u001b[0m \u001b[0;34m+\u001b[0m \u001b[0mtop_n\u001b[0m\u001b[0;34m*\u001b[0m\u001b[0mod_msk\u001b[0m\u001b[0;34m)\u001b[0m\u001b[0;34m)\u001b[0m\u001b[0;34m.\u001b[0m\u001b[0margmax\u001b[0m\u001b[0;34m(\u001b[0m\u001b[0;36m1\u001b[0m\u001b[0;34m)\u001b[0m \u001b[0;34m+\u001b[0m \u001b[0;36m1\u001b[0m\u001b[0;34m\u001b[0m\u001b[0;34m\u001b[0m\u001b[0m\n",
      "\u001b[0;31mMemoryError\u001b[0m: Unable to allocate array with shape (4, 280, 1024, 1024, 4) and data type float32"
     ]
    }
   ],
   "source": [
    "top_n = 4\n",
    "od_msk = y_d_preds[:top_n,0]\n",
    "od_msk = (od_msk/od_msk.sum(-1, keepdims=True)).mean(0).transpose(0,3,1,2)\n",
    "\n",
    "msk_dmg = ((len(seg_dam_ids)*y_d_pred + top_n*od_msk)).argmax(1) + 1"
   ]
  },
  {
   "cell_type": "code",
   "execution_count": 27,
   "metadata": {},
   "outputs": [],
   "source": [
    "msk_dmg = y_d_preds[0,0].argmax(-1) + 1"
   ]
  },
  {
   "cell_type": "code",
   "execution_count": null,
   "metadata": {},
   "outputs": [],
   "source": []
  },
  {
   "cell_type": "code",
   "execution_count": null,
   "metadata": {},
   "outputs": [],
   "source": [
    "## def EVAL\n",
    "\n",
    "from xv.submission_metrics import RowPairCalculator, F1Recorder\n",
    "\n",
    "y_d_pred_filtered = msk_dmg * y_pred\n",
    "y_pred_damage = y_d_pred_filtered[y]\n",
    "y_true_damage = y_d[y]\n",
    "damage_f1s = [F1Recorder(*RowPairCalculator.compute_tp_fn_fp(y_pred_damage, y_true_damage, cls), cls) for cls in range(1,5)]\n",
    "\n",
    "building_f1 = F1Recorder(*RowPairCalculator.compute_tp_fn_fp(y_pred, y, 1), 'building')\n",
    "xs = [d.f1 for d in damage_f1s]\n",
    "damage_score = len(xs) / sum((x+1e-6)**-1 for x in xs)\n",
    "building_score = building_f1.f1\n",
    "score = 0.3*building_score + 0.7*damage_score"
   ]
  },
  {
   "cell_type": "code",
   "execution_count": null,
   "metadata": {},
   "outputs": [],
   "source": [
    "building_score, damage_score, score"
   ]
  },
  {
   "cell_type": "code",
   "execution_count": 14,
   "metadata": {},
   "outputs": [
    {
     "data": {
      "text/plain": [
       "(0.867134416729549, 0.8047028070200527, 0.8234322899329016)"
      ]
     },
     "execution_count": 14,
     "metadata": {},
     "output_type": "execute_result"
    }
   ],
   "source": [
    "building_score, damage_score, score # 2 od "
   ]
  },
  {
   "cell_type": "code",
   "execution_count": 19,
   "metadata": {},
   "outputs": [
    {
     "data": {
      "text/plain": [
       "(0.867134416729549, 0.8025184281356607, 0.8219032247138272)"
      ]
     },
     "execution_count": 19,
     "metadata": {},
     "output_type": "execute_result"
    }
   ],
   "source": [
    "building_score, damage_score, score"
   ]
  },
  {
   "cell_type": "code",
   "execution_count": 24,
   "metadata": {},
   "outputs": [
    {
     "data": {
      "text/plain": [
       "(0.867134416729549, 0.8039647871455755, 0.8229156760207674)"
      ]
     },
     "execution_count": 24,
     "metadata": {},
     "output_type": "execute_result"
    }
   ],
   "source": [
    "building_score, damage_score, score # 5 "
   ]
  },
  {
   "cell_type": "code",
   "execution_count": 30,
   "metadata": {},
   "outputs": [
    {
     "data": {
      "text/plain": [
       "(0.867134416729549, 0.8033511890136883, 0.8224861573284465)"
      ]
     },
     "execution_count": 30,
     "metadata": {},
     "output_type": "execute_result"
    }
   ],
   "source": [
    "building_score, damage_score, score # 6"
   ]
  },
  {
   "cell_type": "code",
   "execution_count": 42,
   "metadata": {},
   "outputs": [
    {
     "data": {
      "text/plain": [
       "(0.867134416729549, 0.8038322889349666, 0.8228229272733414)"
      ]
     },
     "execution_count": 42,
     "metadata": {},
     "output_type": "execute_result"
    }
   ],
   "source": [
    "building_score, damage_score, score # .9 decay"
   ]
  },
  {
   "cell_type": "code",
   "execution_count": null,
   "metadata": {},
   "outputs": [],
   "source": [
    "building_score, damage_score, score"
   ]
  },
  {
   "cell_type": "code",
   "execution_count": 9,
   "metadata": {},
   "outputs": [],
   "source": [
    "import numpy as np\n",
    "y_pred = np.load('../dev/y_pred/y_pred.npy')"
   ]
  },
  {
   "cell_type": "code",
   "execution_count": 15,
   "metadata": {},
   "outputs": [],
   "source": [
    "TOP_SEGMENT = 4\n",
    "seg_ids = [r_id for r_id, _ in seg_runs[:TOP_SEGMENT]]"
   ]
  },
  {
   "cell_type": "code",
   "execution_count": 10,
   "metadata": {},
   "outputs": [],
   "source": [
    "y = np.load('../dev/buildings.npy')\n",
    "\n",
    "#X = [np.load(f'../dev/segment/{run_id}.npy') for run_id in seg_ids]\n",
    "#X = np.stack(X, axis=0).mean(0)\n",
    "\n",
    "y = y.astype(np.bool)\n",
    "#X = X.astype(np.float16)"
   ]
  },
  {
   "cell_type": "code",
   "execution_count": null,
   "metadata": {},
   "outputs": [],
   "source": [
    "X.shape, y.shape"
   ]
  },
  {
   "cell_type": "code",
   "execution_count": 61,
   "metadata": {},
   "outputs": [],
   "source": [
    "thresh = 0.175\n",
    "y_pred = (X[:,0] > thresh)"
   ]
  },
  {
   "cell_type": "code",
   "execution_count": 21,
   "metadata": {},
   "outputs": [],
   "source": [
    "TOP_DAM_SEG = 5\n",
    "TOP_DAM_OD = 5\n",
    "\n",
    "seg_dam_ids = [r_id for r_id, _ in seg_dam_runs[:TOP_DAM_SEG]]\n",
    "dam_od_ids = [r_id for r_id, _ in dam_od_runs[:TOP_DAM_OD]]"
   ]
  },
  {
   "cell_type": "code",
   "execution_count": null,
   "metadata": {},
   "outputs": [],
   "source": [
    "\n",
    "#PROJECT = 'building-seg-damage'\n",
    "#METRIC = \"hmean:damage:categorical:f1\"\n",
    "\n",
    "#PROJECT = 'building-damage'\n",
    "#METRIC = \"hmean:damage:categorical:f1\"\n",
    "\n"
   ]
  },
  {
   "cell_type": "code",
   "execution_count": 22,
   "metadata": {},
   "outputs": [],
   "source": [
    "seg_dam_ids = []\n",
    "seg_ids = ['8bh5rurv']\n",
    "dam_od_ids = ['zu0uhkyk', 'kx9yzcb9']"
   ]
  },
  {
   "cell_type": "code",
   "execution_count": 23,
   "metadata": {},
   "outputs": [
    {
     "name": "stdout",
     "output_type": "stream",
     "text": [
      "\u001b[0m\u001b[01;34mdam_od\u001b[0m/  \u001b[01;34mdam_seg\u001b[0m/  \u001b[01;34mloc\u001b[0m/  phash_weights.npy\n"
     ]
    }
   ],
   "source": [
    "ls ../xv/models"
   ]
  },
  {
   "cell_type": "code",
   "execution_count": 24,
   "metadata": {},
   "outputs": [],
   "source": [
    "for rid in seg_dam_ids:\n",
    "    project = 'building-seg-damage'\n",
    "    path = f\"xvr-hlt/{project}/{rid}\"\n",
    "    conf_file = wandb.restore('config.yaml', run_path=path, replace=True).name\n",
    "    state_file = wandb.restore('state_dict.pth', run_path=path, replace=True).name\n",
    "    pth = f'../xv/models/dam_seg/{rid}/'\n",
    "    !mkdir {pth}\n",
    "    !mv config.yaml {pth}\n",
    "    !mv state_dict.pth {pth}"
   ]
  },
  {
   "cell_type": "code",
   "execution_count": 25,
   "metadata": {},
   "outputs": [
    {
     "name": "stdout",
     "output_type": "stream",
     "text": [
      "mkdir: cannot create directory ‘../xv/models/dam_od/kx9yzcb9/’: File exists\n"
     ]
    }
   ],
   "source": [
    "for rid in dam_od_ids:\n",
    "    project = 'building-damage'\n",
    "    path = f\"xvr-hlt/{project}/{rid}\"\n",
    "    conf_file = wandb.restore('config.yaml', run_path=path, replace=True).name\n",
    "    state_file = wandb.restore('state_dict.pth', run_path=path, replace=True).name\n",
    "    pth = f'../xv/models/dam_od/{rid}/'\n",
    "    !mkdir {pth}\n",
    "    !mv config.yaml {pth}\n",
    "    !mv state_dict.pth {pth}"
   ]
  },
  {
   "cell_type": "code",
   "execution_count": 26,
   "metadata": {},
   "outputs": [
    {
     "name": "stdout",
     "output_type": "stream",
     "text": [
      "mkdir: cannot create directory ‘../xv/models/loc/8bh5rurv/’: File exists\n"
     ]
    }
   ],
   "source": [
    "for rid in seg_ids:\n",
    "    project = 'sky-eye-full'\n",
    "    path = f\"xvr-hlt/{project}/{rid}\"\n",
    "    conf_file = wandb.restore('config.yaml', run_path=path, replace=True).name\n",
    "    state_file = wandb.restore('state_dict.pth', run_path=path, replace=True).name\n",
    "    pth = f'../xv/models/loc/{rid}/'\n",
    "    !mkdir {pth}\n",
    "    !mv config.yaml {pth}\n",
    "    !mv state_dict.pth {pth}"
   ]
  },
  {
   "cell_type": "code",
   "execution_count": null,
   "metadata": {},
   "outputs": [],
   "source": []
  },
  {
   "cell_type": "code",
   "execution_count": null,
   "metadata": {},
   "outputs": [],
   "source": []
  },
  {
   "cell_type": "code",
   "execution_count": null,
   "metadata": {},
   "outputs": [],
   "source": [
    "seg_run_path = f\"xvr-hlt/{project}/{run_id}\"\n",
    "conf_file = wandb.restore('config.yaml', run_path=seg_run_path, replace=True).name\n",
    "state_file = wandb.restore('state_dict.pth', run_path=seg_run_path, replace=True).name"
   ]
  },
  {
   "cell_type": "code",
   "execution_count": 11,
   "metadata": {},
   "outputs": [],
   "source": [
    "from xv import io\n",
    "import ttach as tta\n",
    "import torch\n",
    "from tqdm import tqdm_notebook as tqdm\n",
    "import numpy as np\n",
    "from xv.tta import BoxClassifierTTA\n",
    "from imantics import Polygons\n",
    "\n",
    "@torch.no_grad()\n",
    "def predict_seg_run(run_id, building_preds, project, to):\n",
    "    seg_run_path = f\"xvr-hlt/{project}/{run_id}\"\n",
    "    conf_file = wandb.restore('config.yaml', run_path=seg_run_path, replace=True).name\n",
    "    state_file = wandb.restore('state_dict.pth', run_path=seg_run_path, replace=True).name\n",
    "    conf = io.Config(conf_file)\n",
    "    conf.filter_none = False # predict on all\n",
    "    \n",
    "    model, preproc = io.load_segmentation_model(conf, state_file)\n",
    "    model.eval().cuda();\n",
    "    model = tta.SegmentationTTAWrapper(model, tta.aliases.d4_transform(), merge_mode='mean')\n",
    "    \n",
    "    dev_data, dev_loader = io.load_dev_data(conf, preproc)\n",
    "    \n",
    "    ars = []\n",
    "    \n",
    "    for (im, _), y_pred in tqdm(zip(dev_loader, building_preds)):\n",
    "        out = model(im.cuda()).sigmoid()\n",
    "        \n",
    "        damage_map = np.zeros((1024,1024))\n",
    "        for poly in Polygons.from_mask(y_pred):\n",
    "            poly_mask = Polygons.create([poly]).mask(1024, 1024).array\n",
    "            cls = out[:,poly_mask].mean(1).argmax() + 1\n",
    "            damage_map[poly_mask] = cls\n",
    "        ars.append(out.cpu().numpy())\n",
    "    \n",
    "    preds = np.concatenate(ars)\n",
    "    np.save(f'{to}/{run_id}', preds)\n",
    "\n",
    "\n",
    "from imantics import Polygons\n",
    "Polygons.create([poly]).mask(1024, 1024).array\n",
    "    \n",
    "@torch.no_grad()\n",
    "def predict_od(run_id, project, to):\n",
    "    seg_run_path = f\"xvr-hlt/{project}/{run_id}\"\n",
    "    conf_file = wandb.restore('config.yaml', run_path=seg_run_path, replace=True).name\n",
    "    state_file = wandb.restore('state_dict.pth', run_path=seg_run_path, replace=True).name\n",
    "    conf = io.Config(conf_file)\n",
    "\n",
    "    dmg_model = io.load_damage_model(conf, state_file)\n",
    "    dmg_model = BoxClassifierTTA(dmg_model)\n",
    "    dmg_model = dmg_model.eval().cuda()\n",
    "    \n",
    "    for (im, _), y_pred in tqdm(zip(dev_loader, building_preds)):\n",
    "        pass\n",
    "    return dmg_model"
   ]
  },
  {
   "cell_type": "code",
   "execution_count": null,
   "metadata": {},
   "outputs": [],
   "source": [
    "from xv import io\n",
    "\n",
    "\n",
    "import torch\n",
    "from tqdm import tqdm_notebook as tqdm\n",
    "import numpy as np\n",
    "from xv.tta import BoxClassifierTTA\n",
    "\n",
    "@torch.no_grad()\n",
    "def predict_seg_run(run_id, project, to):\n",
    "    seg_run_path = f\"xvr-hlt/{project}/{run_id}\"\n",
    "    conf_file = wandb.restore('config.yaml', run_path=seg_run_path, replace=True).name\n",
    "    state_file = wandb.restore('state_dict.pth', run_path=seg_run_path, replace=True).name\n",
    "    conf = io.Config(conf_file)\n",
    "    conf.filter_none = False # predict on all\n",
    "    \n",
    "    model, preproc = io.load_segmentation_model(conf, state_file)\n",
    "    model.eval().cuda();\n",
    "    model = tta.SegmentationTTAWrapper(model, tta.aliases.d4_transform(), merge_mode='mean')\n",
    "    \n",
    "    dev_data, dev_loader = io.load_dev_data(conf, preproc)\n",
    "    \n",
    "    ars = []\n",
    "    \n",
    "    for im, mask in tqdm(dev_loader):\n",
    "        out = model(im.cuda()).sigmoid()\n",
    "        ars.append(out.cpu().numpy())\n",
    "    \n",
    "    preds = np.concatenate(ars)\n",
    "    np.save(f'{to}/{run_id}', preds)\n",
    "\n",
    "@torch.no_grad()\n",
    "def predict_od(run_id, project, to):\n",
    "    return dmg_model"
   ]
  },
  {
   "cell_type": "code",
   "execution_count": null,
   "metadata": {},
   "outputs": [],
   "source": []
  },
  {
   "cell_type": "code",
   "execution_count": 44,
   "metadata": {},
   "outputs": [
    {
     "name": "stderr",
     "output_type": "stream",
     "text": [
      "/home/jupyter/sky-eye/xv/io.py:37: YAMLLoadWarning: calling yaml.load() without Loader=... is deprecated, as the default Loader is unsafe. Please read https://msg.pyyaml.org/load for full details.\n",
      "  _conf = yaml.load(file_path)\n",
      "100%|██████████| 280/280 [00:04<00:00, 58.20it/s]\n"
     ]
    },
    {
     "data": {
      "application/vnd.jupyter.widget-view+json": {
       "model_id": "2db81ebb7f73439c9484b5694f5dac64",
       "version_major": 2,
       "version_minor": 0
      },
      "text/plain": [
       "HBox(children=(IntProgress(value=0, max=280), HTML(value='')))"
      ]
     },
     "metadata": {},
     "output_type": "display_data"
    },
    {
     "name": "stdout",
     "output_type": "stream",
     "text": [
      "\n"
     ]
    }
   ],
   "source": [
    "import segmentation_models_pytorch as smp\n",
    "from xv import io\n",
    "import numpy as np\n",
    "\n",
    "conf=io.Config('config.yaml')\n",
    "\n",
    "conf.n_cpus = 8\n",
    "conf.eval_resolution = 1024\n",
    "conf.mode = 'categorical'\n",
    "conf.filter_none = False\n",
    "conf.dual_input = False\n",
    "preproc_fun = smp.encoders.get_preprocessing_fn('efficientnet-b7')\n",
    "dev_data, dev_loader = io.load_dev_data(conf, preproc_fun)\n",
    "damage_ims = np.stack([im for im, _ in tqdm(dev_data)])"
   ]
  },
  {
   "cell_type": "code",
   "execution_count": 49,
   "metadata": {},
   "outputs": [],
   "source": [
    "from xv import io\n",
    "from tqdm.notebook import tqdm\n",
    "from xv.tta import BoxClassifierTTA\n",
    "import torch\n",
    "from tqdm.notebook import tqdm\n",
    "from imantics import Polygons\n",
    "import cv2\n",
    "\n",
    "\n",
    "run_id = dam_od_ids[0]\n",
    "project = 'building-damage'\n",
    "\n",
    "@torch.no_grad()\n",
    "def get_msk_dmgs(run_id, project, damage_ims, y_pred):\n",
    "    seg_run_path = f\"xvr-hlt/{project}/{run_id}\"\n",
    "    conf_file = wandb.restore('config.yaml', run_path=seg_run_path, replace=True).name\n",
    "    state_file = wandb.restore('state_dict.pth', run_path=seg_run_path, replace=True).name\n",
    "    conf = io.Config(conf_file)\n",
    "    dmg_model = io.load_damage_model(conf, state_file)\n",
    "\n",
    "    dmg_model = BoxClassifierTTA(dmg_model)\n",
    "    dmg_model = dmg_model.eval().cuda()\n",
    "    \n",
    "    msk_dmgs = np.zeros((280, 1024, 1024, 4), dtype=np.float32)\n",
    "    for msk_dmg, damage_im, building_pred in tqdm(zip(msk_dmgs, damage_ims, y_pred)):\n",
    "        polys = Polygons.from_mask(building_pred)\n",
    "        polypoints = polys.points\n",
    "\n",
    "        if polypoints:\n",
    "            boxes = torch.Tensor([[min(p[:,0]), min(p[:,1]), max(p[:,0]), max(p[:,1])] for p in polypoints])\n",
    "            out = dmg_model(torch.Tensor(damage_im)[None].cuda(), [boxes.cuda()])\n",
    "            #assert False\n",
    "            probs = out.sigmoid().cpu().numpy()\n",
    "            for poly, prob in zip(polypoints, probs):\n",
    "                msk_dmg[Polygons([poly]).mask(1024,1024).array] = prob\n",
    "    return msk_dmgs"
   ]
  },
  {
   "cell_type": "code",
   "execution_count": null,
   "metadata": {},
   "outputs": [],
   "source": [
    "from xv.submission_metrics import RowPairCalculator, F1Recorder\n",
    "\n",
    "y_d_pred_filtered = msk_dmg * y_pred\n",
    "y_pred_damage = y_d_pred_filtered[y]\n",
    "y_true_damage = y_d[y]\n",
    "damage_f1s = [F1Recorder(*RowPairCalculator.compute_tp_fn_fp(y_pred_damage, y_true_damage, cls), cls) for cls in range(1,5)]\n",
    "\n",
    "building_f1 = F1Recorder(*RowPairCalculator.compute_tp_fn_fp(y_pred, y, 1), 'building')\n",
    "xs = [d.f1 for d in damage_f1s]\n",
    "damage_score = len(xs) / sum((x+1e-6)**-1 for x in xs)\n",
    "building_score = building_f1.f1\n",
    "score = 0.3*building_score + 0.7*damage_score"
   ]
  },
  {
   "cell_type": "code",
   "execution_count": null,
   "metadata": {},
   "outputs": [],
   "source": [
    "building_score, damage_score, score"
   ]
  },
  {
   "cell_type": "code",
   "execution_count": 28,
   "metadata": {},
   "outputs": [
    {
     "data": {
      "text/plain": [
       "(0.867134416729549, 0.7787355957896358, 0.8052552420716097)"
      ]
     },
     "execution_count": 28,
     "metadata": {},
     "output_type": "execute_result"
    }
   ],
   "source": [
    "building_score, damage_score, score"
   ]
  },
  {
   "cell_type": "code",
   "execution_count": 29,
   "metadata": {},
   "outputs": [
    {
     "data": {
      "text/plain": [
       "(0.867134416729549, 0.7787355957896358, 0.8052552420716097)"
      ]
     },
     "execution_count": 29,
     "metadata": {},
     "output_type": "execute_result"
    }
   ],
   "source": [
    "building_score, damage_score, score"
   ]
  },
  {
   "cell_type": "code",
   "execution_count": 17,
   "metadata": {},
   "outputs": [
    {
     "data": {
      "text/plain": [
       "(0.867134416729549, 0.7835007926782325, 0.8085908798936274)"
      ]
     },
     "execution_count": 17,
     "metadata": {},
     "output_type": "execute_result"
    }
   ],
   "source": [
    "building_score, damage_score, score"
   ]
  },
  {
   "cell_type": "code",
   "execution_count": 64,
   "metadata": {},
   "outputs": [
    {
     "data": {
      "text/plain": [
       "(0.867134416729549, 0.8085908798936274, 0.7835007926782325)"
      ]
     },
     "execution_count": 64,
     "metadata": {},
     "output_type": "execute_result"
    }
   ],
   "source": [
    "building_score, score, damage_score"
   ]
  },
  {
   "cell_type": "code",
   "execution_count": 21,
   "metadata": {},
   "outputs": [],
   "source": [
    "import torch\n",
    "from imantics import Polygons\n",
    "import cv2"
   ]
  },
  {
   "cell_type": "code",
   "execution_count": null,
   "metadata": {},
   "outputs": [],
   "source": [
    "for run_id in tqdm(seg_ids[10:]):\n",
    "    predict_seg_run(run_id, 'sky-eye-full', '../dev/segment/')"
   ]
  },
  {
   "cell_type": "code",
   "execution_count": null,
   "metadata": {},
   "outputs": [],
   "source": [
    "for run_id in tqdm(seg_dam_ids[:10]):\n",
    "    predict_seg_run(run_id, 'building-seg-damage', '../dev/segment-damage/')"
   ]
  },
  {
   "cell_type": "code",
   "execution_count": null,
   "metadata": {},
   "outputs": [],
   "source": []
  },
  {
   "cell_type": "code",
   "execution_count": 2,
   "metadata": {},
   "outputs": [],
   "source": [
    "import wandb\n",
    "api = wandb.Api()\n",
    "def get_score(r, metric):\n",
    "    hist = list(r.scan_history())\n",
    "    scores = [h[METRIC] for h in hist if METRIC in h]\n",
    "    if not scores: return None\n",
    "    return max(scores)"
   ]
  },
  {
   "cell_type": "code",
   "execution_count": 3,
   "metadata": {},
   "outputs": [
    {
     "name": "stderr",
     "output_type": "stream",
     "text": [
      "/opt/anaconda3/lib/python3.7/site-packages/ipykernel_launcher.py:21: TqdmDeprecationWarning: This function will be removed in tqdm==5.0.0\n",
      "Please use `tqdm.notebook.tqdm` instead of `tqdm.tqdm_notebook`\n"
     ]
    },
    {
     "data": {
      "application/vnd.jupyter.widget-view+json": {
       "model_id": "118507c6cf984c58ab11d625730bd246",
       "version_major": 2,
       "version_minor": 0
      },
      "text/plain": [
       "HBox(children=(IntProgress(value=1, bar_style='info', max=1), HTML(value='')))"
      ]
     },
     "metadata": {},
     "output_type": "display_data"
    },
    {
     "name": "stdout",
     "output_type": "stream",
     "text": [
      "\n"
     ]
    }
   ],
   "source": [
    "import wandb\n",
    "\n",
    "api = wandb.Api()\n",
    "\n",
    "#PROJECT = 'sky-eye-full'\n",
    "#METRIC = \"building:f1\"\n",
    "\n",
    "PROJECT = 'building-seg-damage'\n",
    "METRIC = \"hmean:damage:categorical:f1\"\n",
    "\n",
    "#PROJECT = 'building-damage'\n",
    "#METRIC = \"hmean:damage:categorical:f1\"\n",
    "\n",
    "\n",
    "runs = api.runs(f'xvr-hlt/{PROJECT}')\n",
    "\n",
    "from concurrent.futures import ThreadPoolExecutor\n",
    "from tqdm import tqdm_notebook as tqdm\n",
    "\n",
    "with ThreadPoolExecutor(16) as pool:\n",
    "    scores = list(tqdm(pool.map(lambda r: get_score(r, metric=METRIC), runs)))\n",
    "    \n",
    "scores = dict(zip(runs, scores))\n",
    "\n",
    "kvs = []\n",
    "vs = set()\n",
    "\n",
    "for k,v in sorted(((k,v) for k,v in scores.items() if v is not None), key=lambda kv: -kv[1]):\n",
    "    if v in vs:\n",
    "        continue\n",
    "    vs.add(v)\n",
    "    kvs.append((k.id,v))"
   ]
  },
  {
   "cell_type": "code",
   "execution_count": 11,
   "metadata": {},
   "outputs": [],
   "source": [
    "kvs = []\n",
    "vs = set()\n",
    "\n",
    "for k,v in sorted(((k,v) for k,v in scores.items() if v is not None), key=lambda kv: -kv[1]):\n",
    "    if v in vs:\n",
    "        continue\n",
    "    vs.add(v)\n",
    "    kvs.append((k.id,v))"
   ]
  },
  {
   "cell_type": "code",
   "execution_count": 12,
   "metadata": {},
   "outputs": [
    {
     "data": {
      "text/plain": [
       "[('tyi7q17m', 0.8150793196256518),\n",
       " ('ngmxec6s', 0.8096530334019485),\n",
       " ('vrgbzaup', 0.8096383585083926),\n",
       " ('xei17o3b', 0.8094810213663001),\n",
       " ('10gtu54s', 0.8090864470378549),\n",
       " ('443t9312', 0.8083381310832123),\n",
       " ('pxcuoulb', 0.8081565006839244),\n",
       " ('cpumt46r', 0.8080391959243641),\n",
       " ('viptnxip', 0.8076960005628842),\n",
       " ('mhczmsoa', 0.8073159432491346),\n",
       " ('znxzcx0a', 0.8072744354969165),\n",
       " ('7ar6am07', 0.8071092834046755),\n",
       " ('lwe6n5c0', 0.8069356023059625),\n",
       " ('90mnu920', 0.8069068799555296),\n",
       " ('3k3sq8j8', 0.8065607892727492),\n",
       " ('08meqrfc', 0.806507592996532),\n",
       " ('j4xmz3we', 0.8061300715307924),\n",
       " ('5ocdy37k', 0.806018066403344),\n",
       " ('1lsw442x', 0.8059371742329029),\n",
       " ('5pn3bp2o', 0.8057287190805172),\n",
       " ('0gvvydkt', 0.8057094304994589),\n",
       " ('or34wjnl', 0.8056978455958853),\n",
       " ('8n17nhye', 0.8053004703929182),\n",
       " ('2bnkhyar', 0.8051075190983152),\n",
       " ('c2hvohg7', 0.8050853487741387),\n",
       " ('33aasxzr', 0.8048996430920557),\n",
       " ('x2kd7le4', 0.8048309083942213),\n",
       " ('h10143vl', 0.8045188462433533),\n",
       " ('40l1n8y6', 0.804133361539285),\n",
       " ('8slg69rb', 0.8039897395816178),\n",
       " ('1i9o4irz', 0.8039050744238557),\n",
       " ('yzy5xz0v', 0.8037504662087867),\n",
       " ('71urz3vc', 0.803504510967261),\n",
       " ('plef5k0s', 0.8033634254385499),\n",
       " ('gy2br0jg', 0.803299398823565),\n",
       " ('rfu2ifuh', 0.8031063433726832),\n",
       " ('5zu1m3bn', 0.8028573049710269),\n",
       " ('q6owqo9n', 0.8027765638467597),\n",
       " ('nj4eqar6', 0.8022980617768509),\n",
       " ('95pmh37c', 0.8022721609563958),\n",
       " ('bwokunen', 0.8020144609810917),\n",
       " ('mup0a8nr', 0.8017675370044304),\n",
       " ('sfuro5po', 0.8016111356771201),\n",
       " ('zqyn9p93', 0.8014536526695175),\n",
       " ('2vxk06dd', 0.8014338928440974),\n",
       " ('u79r6clj', 0.801312599648869),\n",
       " ('n18dw3pw', 0.801045922111627),\n",
       " ('8q7ksm9i', 0.8010426879580624),\n",
       " ('hsxmom00', 0.8009507844514139),\n",
       " ('u9cjdrex', 0.8008442123994678),\n",
       " ('glqicry3', 0.8006921617543351),\n",
       " ('h0olwu4b', 0.8002080920478214),\n",
       " ('xtn64qix', 0.7997572937359334),\n",
       " ('a3c9280q', 0.799716070814993),\n",
       " ('1y22oi0u', 0.7993317859283897),\n",
       " ('3zbh7u3v', 0.799268689223014),\n",
       " ('w8qrxmoz', 0.7991224209966449),\n",
       " ('imv42uy6', 0.7989645355716333),\n",
       " ('x7f1xzpf', 0.7987983342641608),\n",
       " ('lcqjbt95', 0.7982447245950074),\n",
       " ('qoe65klh', 0.7982029790720784),\n",
       " ('w9crlqar', 0.7981781780879784),\n",
       " ('h96cg6xk', 0.7978221829200375),\n",
       " ('x6hvfaig', 0.7977431034153502),\n",
       " ('p25udvf3', 0.797614980531567),\n",
       " ('d7t41mme', 0.7971864070301998),\n",
       " ('l2boqip1', 0.7971380043986938),\n",
       " ('9cw207b2', 0.7970304615325421),\n",
       " ('24jyy20i', 0.7966552536372183),\n",
       " ('0hdw1tij', 0.7966135534613009),\n",
       " ('3vapw5mx', 0.7962866140627475),\n",
       " ('apv2ytl5', 0.796286341924546),\n",
       " ('6l6j9rhy', 0.7960691510098223),\n",
       " ('q4swf194', 0.7959664093237191),\n",
       " ('uwyv99ow', 0.7959481508146234),\n",
       " ('mdqhajyd', 0.7950791607265357),\n",
       " ('6otp6vb7', 0.7946473740367376),\n",
       " ('ecww41id', 0.7945546087794971),\n",
       " ('6yte9zxb', 0.7944160618711117),\n",
       " ('t9a2wp7c', 0.7943456796966621),\n",
       " ('uz9r2195', 0.7943178033810195),\n",
       " ('w4rxus6p', 0.7940998242402769),\n",
       " ('l801fspz', 0.7939666138012),\n",
       " ('6plob4r0', 0.7933580285617416),\n",
       " ('o20xxp1c', 0.7932331242567002),\n",
       " ('9pr1r6on', 0.7931208493386694),\n",
       " ('9phouz3r', 0.7929946468538789),\n",
       " ('4runn3lk', 0.7928316559890497),\n",
       " ('3a7xnkne', 0.7926173880154775),\n",
       " ('lkmvw4w3', 0.7924696798065105),\n",
       " ('aczfj5mc', 0.7922749143059645),\n",
       " ('3g11nga1', 0.7918831608459127),\n",
       " ('3dfkd846', 0.791670851524083),\n",
       " ('xvvljk3y', 0.7913515135078811),\n",
       " ('ncpv25gy', 0.7910367397358418),\n",
       " ('r69sp2tv', 0.7908271093108264),\n",
       " ('2am82avy', 0.7908148739261226),\n",
       " ('4vy48bne', 0.7907380620096157),\n",
       " ('47nhdwbs', 0.7902837218545685),\n",
       " ('72kfw8x8', 0.7902409400524498),\n",
       " ('uc4zb6uj', 0.7897154757042099),\n",
       " ('ejpllbfw', 0.7895336457869215),\n",
       " ('4ij0s73b', 0.7894713820133112),\n",
       " ('c8nmxb6o', 0.7894496547712091),\n",
       " ('tsenm28z', 0.789306965859956),\n",
       " ('ljjfo0di', 0.7892289203666504),\n",
       " ('bv9xano1', 0.7890294950541684),\n",
       " ('hmqi801u', 0.7888702932769559),\n",
       " ('3cgzdyo5', 0.7888219155235783),\n",
       " ('v17fjdpp', 0.7887774968237107),\n",
       " ('wjrrbubs', 0.7885206395659579),\n",
       " ('wpnpud7l', 0.7881289668078076),\n",
       " ('0ci47ciq', 0.788097073234744),\n",
       " ('zd2olhv3', 0.78804699642616),\n",
       " ('m1vosm0d', 0.7877411626250228),\n",
       " ('dmdovhxl', 0.7874438674466012),\n",
       " ('u1tpjy5f', 0.7873232924741829),\n",
       " ('xv2vfnzl', 0.7872260357905989),\n",
       " ('3mbsvu5s', 0.7871818288714454),\n",
       " ('pcrmhkhi', 0.7868940357325903),\n",
       " ('xv9izf6r', 0.7867937679945761),\n",
       " ('1qwgs3fo', 0.7864521487833998),\n",
       " ('ogr3x1xu', 0.7864329046109706),\n",
       " ('jzppmv2j', 0.7864164227882321),\n",
       " ('xzxw083j', 0.7863496180129022),\n",
       " ('lsin7l0c', 0.7860101675811129),\n",
       " ('1gfmqjhs', 0.7858279057628319),\n",
       " ('kjdseyw3', 0.7850945037264757),\n",
       " ('3f5vv29u', 0.7845393205940955),\n",
       " ('fo0gsyuz', 0.7840167000195992),\n",
       " ('5524dhf3', 0.7839553194569352),\n",
       " ('ppq2aoak', 0.783620808534035),\n",
       " ('hnk913sl', 0.7833338302864113),\n",
       " ('iq0mu350', 0.7826928032766483),\n",
       " ('nouw5e6e', 0.7825405700365787),\n",
       " ('rsvbiorz', 0.7823888786034416),\n",
       " ('bq99bgnv', 0.7821233161896288),\n",
       " ('byjec9pz', 0.7816248506263291),\n",
       " ('8kni6r85', 0.7815468019299722),\n",
       " ('nhfrl29p', 0.7810573588554638),\n",
       " ('8aiisbgh', 0.7807444772182264),\n",
       " ('1odjko8r', 0.7805756813064813),\n",
       " ('wwdnsjrs', 0.7800956194912965),\n",
       " ('xzyi0d0c', 0.7793650644546536),\n",
       " ('jyxhuq8q', 0.7781907761167857),\n",
       " ('082fwxhw', 0.7778086710199362),\n",
       " ('nuwegte6', 0.7766079541536721),\n",
       " ('armne1wi', 0.7765246375012189),\n",
       " ('qfwfts69', 0.7760321288268917),\n",
       " ('yvg6mq1i', 0.7759927813144329),\n",
       " ('8ulha8r2', 0.7758703213196323),\n",
       " ('6fiuk18u', 0.7753256134958323),\n",
       " ('ekv90a4r', 0.7751436199595069),\n",
       " ('wb0l2dpe', 0.7750867329612657),\n",
       " ('xus9i388', 0.7749100360204852),\n",
       " ('ih38i39w', 0.7747418309738046),\n",
       " ('fvfggexg', 0.7726240842784572),\n",
       " ('zdcocbkg', 0.7656492343688779),\n",
       " ('s5cfl6nw', 0.7386350696970508),\n",
       " ('7qqer1e1', 0.7305215190674078),\n",
       " ('f0sdof59', 0.7291834301534449),\n",
       " ('b8z3h83y', 0.7125825819680428),\n",
       " ('6ish61l5', 0.7111462186687864),\n",
       " ('rv5jfjvp', 0.7045922380916231),\n",
       " ('yp5ompa9', 0.7030573712441262),\n",
       " ('ud8jt0tu', 0.69980598458645),\n",
       " ('rnmgchfl', 0.6948154373154058),\n",
       " ('yiapq176', 0.6897260297937047),\n",
       " ('b0kj89mc', 0.6862793815762244),\n",
       " ('4gfiwf4s', 0.6752995154464857),\n",
       " ('0nxzh6ea', 0.6227375295166977)]"
      ]
     },
     "execution_count": 12,
     "metadata": {},
     "output_type": "execute_result"
    }
   ],
   "source": [
    "kvs"
   ]
  },
  {
   "cell_type": "code",
   "execution_count": null,
   "metadata": {},
   "outputs": [],
   "source": [
    "### Def get Poly-average\n",
    "\n",
    "from imantics import Polygons\n",
    "from xv.submission_metrics import RowPairCalculator, F1Recorder\n",
    "\n",
    "ars = np.zeros((280,1024,1024), dtype=np.uint8)\n",
    "\n",
    "for yb_pred, out, damage_map in tqdm(zip(y_pred, y_d_pred, ars)):\n",
    "    for poly in Polygons.from_mask(yb_pred):\n",
    "        poly_mask = Polygons.create([poly]).mask(1024, 1024).array\n",
    "        cls = out[:,poly_mask].mean(1).argmax() + 1\n",
    "        damage_map[poly_mask] = cls\n",
    "        \n",
    "\n",
    "y_d_pred_filtered = ars * y_pred\n",
    "y_pred_damage = y_d_pred_filtered[y]\n",
    "y_true_damage = y_d[y]\n",
    "damage_f1s = [F1Recorder(*RowPairCalculator.compute_tp_fn_fp(y_pred_damage, y_true_damage, cls), cls) for cls in range(1,5)]\n",
    "\n",
    "building_f1 = F1Recorder(*RowPairCalculator.compute_tp_fn_fp(y_pred, y, 1), 'building')\n",
    "xs = [d.f1 for d in damage_f1s]\n",
    "damage_score = len(xs) / sum((x+1e-6)**-1 for x in xs)\n",
    "building_score = building_f1.f1\n",
    "score = 0.3*building_score + 0.7*damage_score"
   ]
  },
  {
   "cell_type": "code",
   "execution_count": null,
   "metadata": {},
   "outputs": [],
   "source": []
  },
  {
   "cell_type": "code",
   "execution_count": null,
   "metadata": {},
   "outputs": [],
   "source": []
  },
  {
   "cell_type": "code",
   "execution_count": null,
   "metadata": {},
   "outputs": [],
   "source": [
    "### Find threshes\n",
    "\n",
    "threshes = np.arange(0.15, 0.25, 0.0125)\n",
    "\n",
    "from xv.submission_metrics import RowPairCalculator, F1Recorder\n",
    "\n",
    "from pprint import pprint\n",
    "from IPython.display import Markdown, display\n",
    "\n",
    "for thresh in threshes:\n",
    "    print(f\"### {thresh: .3f}\")\n",
    "    y_pred = (X[:,0] > thresh)\n",
    "    y_d_pred_filtered = y_d_pred * y_pred\n",
    "    y_pred_damage = y_d_pred_filtered[y]\n",
    "    y_true_damage = y_d[y]\n",
    "    damage_f1s = [F1Recorder(*RowPairCalculator.compute_tp_fn_fp(y_pred_damage, y_true_damage, cls), cls) for cls in range(1,5)]\n",
    "    building_f1 = F1Recorder(*RowPairCalculator.compute_tp_fn_fp(y_pred, y, 1), 'building')\n",
    "    xs = [d.f1 for d in damage_f1s]\n",
    "    damage_score = len(xs) / sum((x+1e-6)**-1 for x in xs)\n",
    "    building_score = building_f1.f1\n",
    "    score = 0.3*building_score + 0.7*damage_score\n",
    "    print(f\"building: {building_score: .4f}, 'damage': {damage_score: .4f}, overall: {score: .6f}\\n\")"
   ]
  }
 ],
 "metadata": {
  "kernelspec": {
   "display_name": "Python 3",
   "language": "python",
   "name": "python3"
  },
  "language_info": {
   "codemirror_mode": {
    "name": "ipython",
    "version": 3
   },
   "file_extension": ".py",
   "mimetype": "text/x-python",
   "name": "python",
   "nbconvert_exporter": "python",
   "pygments_lexer": "ipython3",
   "version": "3.7.4"
  }
 },
 "nbformat": 4,
 "nbformat_minor": 4
}
