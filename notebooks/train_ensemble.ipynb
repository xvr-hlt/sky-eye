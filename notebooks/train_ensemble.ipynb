{
 "cells": [
  {
   "cell_type": "code",
   "execution_count": null,
   "metadata": {},
   "outputs": [],
   "source": [
    "%load_ext autoreload\n",
    "%autoreload 2\n",
    "\n",
    "import wandb"
   ]
  },
  {
   "cell_type": "code",
   "execution_count": null,
   "metadata": {},
   "outputs": [],
   "source": [
    "seg_runs = [\n",
    "    ('8bh5rurv', 0.8848695158958435),\n",
    "    ('cnqyhmsb', 0.8836771249771118),\n",
    "    ('ri1dvvam', 0.8832937479019165),\n",
    "    ('ilhz9vkq', 0.883250892162323),\n",
    "    ('dhmhz041', 0.8829216957092285),\n",
    "    ('7mrir9a3', 0.8828873634338379),\n",
    "    ('yzmxfvrv', 0.8828799724578857),\n",
    "    ('5ywrt6qn', 0.882686972618103),\n",
    "    ('ighbwtdm', 0.8826081156730652),\n",
    "    ('315hd0sm', 0.8825200796127319),\n",
    "    ('y2jgqdox', 0.8821526169776917),\n",
    "    ('xr44njvv', 0.8815780282020569),\n",
    "    ('mb22v5ps', 0.8812705874443054),\n",
    "    ('q6d1n08d', 0.8809899091720581),\n",
    "    ('37y0hk18', 0.8808367848396301),\n",
    "    ('3ag6fjep', 0.8806321024894714),\n",
    "    ('uevn0e5g', 0.8803757429122925),\n",
    "    ('0en8eomx', 0.8799382448196411),\n",
    "    ('o0wao11j', 0.8796645998954773),\n",
    "    ('4qrallkn', 0.8785540461540222),\n",
    "    ('6vya7uxd', 0.8780744671821594),\n",
    "    ('rwa0acur', 0.8775778412818909),\n",
    "    ('qoijsx0h', 0.8775392770767212),\n",
    "    ('l1hf5uuh', 0.8767494559288025),\n",
    "    ('ebwyd2di', 0.8765263557434082),\n",
    "    ('6g0nkv0j', 0.8760395646095276),\n",
    "    ('ph4c64ar', 0.8760202527046204),\n",
    "    ('amkk3cbw', 0.8735491037368774),\n",
    "    ('c1dlbdub', 0.8734628558158875),\n",
    "    ('hiinbqsu', 0.8719046115875244)\n",
    "]\n",
    "\n",
    "seg_dam_runs = [\n",
    "    ('tyi7q17m', 0.8150793196256518),\n",
    "    ('ngmxec6s', 0.8096530334019485),\n",
    "    ('vrgbzaup', 0.8096383585083926),\n",
    "    ('443t9312', 0.8083381310832123),\n",
    "    ('pxcuoulb', 0.8081565006839244),\n",
    "    ('cpumt46r', 0.8080391959243641),\n",
    "    ('viptnxip', 0.8076960005628842),\n",
    "    ('mhczmsoa', 0.8073159432491346),\n",
    "    ('znxzcx0a', 0.8072744354969165),\n",
    "    ('7ar6am07', 0.8071092834046755),\n",
    "    ('lwe6n5c0', 0.8069356023059625),\n",
    "    ('90mnu920', 0.8069068799555296),\n",
    "    ('08meqrfc', 0.806507592996532),\n",
    "    ('j4xmz3we', 0.8061300715307924),\n",
    "    ('5ocdy37k', 0.806018066403344),\n",
    "    ('5pn3bp2o', 0.8057287190805172),\n",
    "    ('0gvvydkt', 0.8057094304994589),\n",
    "    ('or34wjnl', 0.8056978455958853),\n",
    "    ('8n17nhye', 0.8053004703929182),\n",
    "    ('c2hvohg7', 0.8050853487741387),\n",
    "    ('33aasxzr', 0.8048996430920557),\n",
    "    ('40l1n8y6', 0.804133361539285),\n",
    "    ('8slg69rb', 0.8039897395816178),\n",
    "    ('yzy5xz0v', 0.8037504662087867),\n",
    "    ('71urz3vc', 0.803504510967261),\n",
    "    ('plef5k0s', 0.8033634254385499),\n",
    "    ('rfu2ifuh', 0.8031063433726832),\n",
    "    ('5zu1m3bn', 0.8028573049710269),\n",
    "    ('nj4eqar6', 0.8022980617768509),\n",
    "    ('95pmh37c', 0.8022721609563958)\n",
    "]\n",
    "\n",
    "dam_od_runs = [\n",
    "    ('kx9yzcb9', 0.8188149291818385),\n",
    "    ('wbqskbmu', 0.8104202275388073),\n",
    "    ('y7n4yzya', 0.808878301295482),\n",
    "    ('c1lit0gf', 0.8086308781844662),\n",
    "    ('ygnsmpis', 0.8047019871807307),\n",
    "    ('t91jg9hv', 0.8030884276616155),\n",
    "    ('5v3elkfr', 0.8026197042480495),\n",
    "    ('0qjy2h9e', 0.8011403695871695),\n",
    "    ('6s629jji', 0.7983212991363049),\n",
    "    ('umj3wmwh', 0.7972560052280561),\n",
    "    ('phtv4ekc', 0.7952364835570059),\n",
    "    ('ypydqpw5', 0.7950183345724261),\n",
    "    ('9bv7h3cw', 0.7941133157892892),\n",
    "    ('w8ka9fat', 0.7932566433728835),\n",
    "    ('zu0uhkyk', 0.7921109978206695)\n",
    "]"
   ]
  },
  {
   "cell_type": "code",
   "execution_count": null,
   "metadata": {},
   "outputs": [],
   "source": [
    "TOP_SEGMENT = 10\n",
    "TOP_DAM_SEG = 10\n",
    "TOP_DAM_OD = 5\n",
    "\n",
    "seg_ids = [r_id for r_id, _ in seg_runs[:TOP_SEGMENT]]\n",
    "seg_dam_ids = [r_id for r_id, _ in seg_dam_runs[:TOP_DAM_SEG]]\n",
    "dam_od_ids = [r_id for r_id, _ in dam_od_runs[:TOP_DAM_OD]]"
   ]
  },
  {
   "cell_type": "markdown",
   "metadata": {},
   "source": [
    "## Building Ensemble"
   ]
  },
  {
   "cell_type": "code",
   "execution_count": null,
   "metadata": {},
   "outputs": [],
   "source": [
    "import numpy as np"
   ]
  },
  {
   "cell_type": "code",
   "execution_count": null,
   "metadata": {},
   "outputs": [],
   "source": [
    "y = np.load('../dev/buildings.npy')\n",
    "\n",
    "X = [np.load(f'../dev/segment/{run_id}.npy') for run_id in seg_ids]\n",
    "X = np.concatenate(X, axis=1)\n",
    "\n",
    "n, nf, *_ = X.shape\n",
    "\n",
    "X = X.reshape(n, nf, -1)\n",
    "X = X.transpose(0,2,1).reshape(-1, nf)\n",
    "\n",
    "y = y.reshape(n, -1)\n",
    "y = y.reshape(X.shape[0])"
   ]
  },
  {
   "cell_type": "code",
   "execution_count": null,
   "metadata": {},
   "outputs": [],
   "source": [
    "from sklearn.metrics import f1_score\n",
    "from sklearn.linear_model import LogisticRegression\n",
    "from sklearn.naive_bayes import BernoulliNB\n",
    "from sklearn.model_selection import cross_val_predict"
   ]
  },
  {
   "cell_type": "code",
   "execution_count": null,
   "metadata": {},
   "outputs": [],
   "source": [
    "from lightgbm.sklearn import LGBMClassifier\n",
    "model = LGBMClassifier(n_jobs=-1)"
   ]
  },
  {
   "cell_type": "code",
   "execution_count": null,
   "metadata": {},
   "outputs": [],
   "source": [
    "n = X.shape[0]\n",
    "N_SPLITS = 5\n",
    "split_size = n//N_SPLITS"
   ]
  },
  {
   "cell_type": "code",
   "execution_count": null,
   "metadata": {},
   "outputs": [],
   "source": [
    "from sklearn.model_selection import KFold"
   ]
  },
  {
   "cell_type": "code",
   "execution_count": null,
   "metadata": {},
   "outputs": [],
   "source": [
    "from sklearn.model_selection import KFold\n",
    "from tqdm.notebook import tqdm\n",
    "kf = KFold(3)\n",
    "preds = []\n",
    "\n",
    "for train_index, test_index in tqdm(kf.split(X,y), total=3):\n",
    "    model.fit(X[train_index], y[train_index])\n",
    "    preds.append(model.predict_proba(X[test_index])[:,1])"
   ]
  },
  {
   "cell_type": "code",
   "execution_count": null,
   "metadata": {},
   "outputs": [],
   "source": [
    "#preds = cross_val_predict(model, X, y, method=\"predict_proba\", verbose=100)[:,1]"
   ]
  },
  {
   "cell_type": "code",
   "execution_count": null,
   "metadata": {},
   "outputs": [],
   "source": [
    "probs = model.predict_proba(X)[:,1]"
   ]
  },
  {
   "cell_type": "code",
   "execution_count": null,
   "metadata": {},
   "outputs": [],
   "source": [
    "y_pred = preds > 0.5"
   ]
  },
  {
   "cell_type": "code",
   "execution_count": null,
   "metadata": {},
   "outputs": [],
   "source": [
    "f1_score(y, y_pred)"
   ]
  },
  {
   "cell_type": "code",
   "execution_count": null,
   "metadata": {},
   "outputs": [],
   "source": [
    "# best model: 0.8842283147668784\n",
    "# mean ensemble: 0.8872299181077064\n",
    "# model ensemble: 0.8821699586706273"
   ]
  },
  {
   "cell_type": "code",
   "execution_count": null,
   "metadata": {},
   "outputs": [],
   "source": [
    "from xv import io\n",
    "import ttach as tta\n",
    "import torch\n",
    "from tqdm import tqdm_notebook as tqdm\n",
    "import numpy as np\n",
    "from xv.tta import BoxClassifierTTA\n",
    "\n",
    "@torch.no_grad()\n",
    "def predict_seg_run(run_id, project, to):\n",
    "    seg_run_path = f\"xvr-hlt/{project}/{run_id}\"\n",
    "    conf_file = wandb.restore('config.yaml', run_path=seg_run_path, replace=True).name\n",
    "    state_file = wandb.restore('state_dict.pth', run_path=seg_run_path, replace=True).name\n",
    "    conf = io.Config(conf_file)\n",
    "    conf.filter_none = False # predict on all\n",
    "    \n",
    "    model, preproc = io.load_segmentation_model(conf, state_file)\n",
    "    model.eval().cuda();\n",
    "    model = tta.SegmentationTTAWrapper(model, tta.aliases.d4_transform(), merge_mode='mean')\n",
    "    \n",
    "    dev_data, dev_loader = io.load_dev_data(conf, preproc)\n",
    "    \n",
    "    ars = []\n",
    "    \n",
    "    for im, mask in tqdm(dev_loader):\n",
    "        out = model(im.cuda()).sigmoid()\n",
    "        ars.append(out.cpu().numpy())\n",
    "    \n",
    "    preds = np.concatenate(ars)\n",
    "    np.save(f'{to}/{run_id}', preds)\n",
    "\n",
    "@torch.no_grad()\n",
    "def predict_od(run_id, project, to):\n",
    "    seg_run_path = f\"xvr-hlt/{project}/{run_id}\"\n",
    "    conf_file = wandb.restore('config.yaml', run_path=seg_run_path, replace=True).name\n",
    "    state_file = wandb.restore('state_dict.pth', run_path=seg_run_path, replace=True).name\n",
    "    conf = io.Config(conf_file)\n",
    "\n",
    "    dmg_model = io.load_damage_model(conf, state_file)\n",
    "    dmg_model = BoxClassifierTTA(dmg_model)\n",
    "    dmg_model = dmg_model.eval().cuda()\n",
    "    return dmg_model"
   ]
  },
  {
   "cell_type": "code",
   "execution_count": null,
   "metadata": {},
   "outputs": [],
   "source": [
    "for run_id in tqdm(seg_ids[10:]):\n",
    "    predict_seg_run(run_id, 'sky-eye-full', '../dev/segment/')"
   ]
  },
  {
   "cell_type": "code",
   "execution_count": null,
   "metadata": {},
   "outputs": [],
   "source": [
    "for run_id in tqdm(seg_dam_ids[10:20]):\n",
    "    predict_seg_run(run_id, 'building-seg-damage', '../dev/segment-damage/')"
   ]
  },
  {
   "cell_type": "code",
   "execution_count": null,
   "metadata": {},
   "outputs": [],
   "source": []
  },
  {
   "cell_type": "code",
   "execution_count": null,
   "metadata": {},
   "outputs": [],
   "source": [
    "import wandb\n",
    "\n",
    "api = wandb.Api()\n",
    "\n",
    "PROJECT = 'sky-eye-full'\n",
    "METRIC = \"building:f1\"\n",
    "\n",
    "#PROJECT = 'building-seg-damage'\n",
    "#METRIC = \"hmean:damage:categorical:f1\"\n",
    "\n",
    "#PROJECT = 'building-damage'\n",
    "#METRIC = \"hmean:damage:categorical:f1\"\n",
    "\n",
    "\n",
    "runs = api.runs(f'xvr-hlt/{PROJECT}')\n",
    "\n",
    "from concurrent.futures import ThreadPoolExecutor\n",
    "from tqdm import tqdm_notebook as tqdm\n",
    "\n",
    "with ThreadPoolExecutor(16) as pool:\n",
    "    scores = list(tqdm(pool.map(lambda r: get_score(r, metric=METRIC), runs)))\n",
    "    \n",
    "scores = dict(zip(runs, scores))\n",
    "\n",
    "kvs = []\n",
    "vs = set()\n",
    "\n",
    "for k,v in sorted(((k,v) for k,v in scores.items() if v is not None), key=lambda kv: -kv[1]):\n",
    "    if v in vs:\n",
    "        continue\n",
    "    vs.add(v)\n",
    "    kvs.append((k,v))"
   ]
  }
 ],
 "metadata": {
  "kernelspec": {
   "display_name": "Python 3",
   "language": "python",
   "name": "python3"
  },
  "language_info": {
   "codemirror_mode": {
    "name": "ipython",
    "version": 3
   },
   "file_extension": ".py",
   "mimetype": "text/x-python",
   "name": "python",
   "nbconvert_exporter": "python",
   "pygments_lexer": "ipython3",
   "version": "3.7.4"
  }
 },
 "nbformat": 4,
 "nbformat_minor": 4
}
