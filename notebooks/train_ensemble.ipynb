{
 "cells": [
  {
   "cell_type": "code",
   "execution_count": null,
   "metadata": {},
   "outputs": [],
   "source": []
  },
  {
   "cell_type": "code",
   "execution_count": 1,
   "metadata": {},
   "outputs": [],
   "source": [
    "post = '/home/jupyter/datasets/xview/train/images/guatemala-volcano_00000000_post_disaster.png'\n",
    "pre = '/home/jupyter/datasets/xview/train/images/guatemala-volcano_00000000_pre_disaster.png'"
   ]
  },
  {
   "cell_type": "code",
   "execution_count": null,
   "metadata": {},
   "outputs": [],
   "source": []
  },
  {
   "cell_type": "code",
   "execution_count": 2,
   "metadata": {},
   "outputs": [],
   "source": [
    "from PIL import Image\n",
    "import numpy as np\n",
    "import torch\n",
    "\n",
    "import torch\n",
    "torch.set_num_threads(1)"
   ]
  },
  {
   "cell_type": "code",
   "execution_count": 3,
   "metadata": {},
   "outputs": [
    {
     "data": {
      "text/plain": [
       "('ilhz9vkq', 0.883250892162323)"
      ]
     },
     "execution_count": 3,
     "metadata": {},
     "output_type": "execute_result"
    }
   ],
   "source": [
    "('8bh5rurv', 0.8848695158958435) \n",
    "('cnqyhmsb', 0.8836771249771118)\n",
    "('ri1dvvam', 0.8832937479019165)\n",
    "('ilhz9vkq', 0.883250892162323)"
   ]
  },
  {
   "cell_type": "code",
   "execution_count": 148,
   "metadata": {},
   "outputs": [],
   "source": [
    "from xv import io\n",
    "import ttach as tta\n",
    "from imantics import Polygons\n",
    "from xv.tta import BoxClassifierTTA\n",
    "\n",
    "class ModelManager:\n",
    "    LOCALIZATION_IDS = ('8bh5rurv', 'cnqyhmsb', 'ri1dvvam', 'ilhz9vkq')\n",
    "    DAMSEG_IDS = ('tyi7q17m','ngmxec6s', 'vrgbzaup', '443t9312', 'pxcuoulb')\n",
    "    DAMOD_IDS = ('kx9yzcb9', 'y7n4yzya', 'c1lit0gf')\n",
    "    \n",
    "    \n",
    "    def __init__(self, base_dir='../models', device='cpu', size=(1024,1024)):\n",
    "        self.base_dir = base_dir\n",
    "        self.device = device\n",
    "        self.size = size\n",
    "    \n",
    "    @staticmethod\n",
    "    def load_img(img_path, image_mean = (0.485, 0.456, 0.406), image_std = (0.229, 0.224, 0.225)):\n",
    "        image = np.array(Image.open(img_path))\n",
    "        image = image.astype(np.float32)\n",
    "        image /= 255.\n",
    "        image = (image-image_mean)/image_std\n",
    "        image = image.transpose(2,0,1)\n",
    "        return torch.Tensor(image[None])\n",
    "    \n",
    "    @torch.no_grad()\n",
    "    def predict_seg(self, im, model_subdir, run_id):\n",
    "        path = f'{self.base_dir}/{model_subdir}/{run_id}'\n",
    "        conf = io.Config(f'{path}/config.yaml')\n",
    "        model, _ = io.load_segmentation_model(conf, f'{path}/state_dict.pth')\n",
    "        model = model.eval().to(self.device)\n",
    "        model = tta.SegmentationTTAWrapper(model, tta.aliases.d4_transform(), merge_mode='mean')\n",
    "        return model(im.to(self.device)).sigmoid().cpu().numpy()[0]\n",
    "    \n",
    "    def predict_seg_dam(self, im, localization, run_id, mean_ag=True):\n",
    "        probs = self.predict_seg(im, 'dam_seg', run_id)\n",
    "        probs = probs / probs.sum(0)\n",
    "        if mean_ag:\n",
    "            _probs = np.zeros(probs.shape)\n",
    "            for poly in Polygons.from_mask(localization):\n",
    "                poly_mask = Polygons.create([poly]).mask(*self.size).array\n",
    "                poly_prob = probs[:,poly_mask].mean(1, keepdims=True)\n",
    "                _probs[:,poly_mask] = poly_prob\n",
    "                probs = _probs\n",
    "        return probs\n",
    "    \n",
    "    @torch.no_grad()\n",
    "    def predict_seg_od(self, im, localization, run_id):\n",
    "        probs = np.zeros((4, *self.size))\n",
    "        polys = Polygons.from_mask(localization)\n",
    "        polypoints = polys.points\n",
    "        \n",
    "        if not polypoints:\n",
    "            return probs\n",
    "        \n",
    "        path = f'{self.base_dir}/dam_od/{run_id}'\n",
    "        conf = io.Config(f'{path}/config.yaml')\n",
    "        model = io.load_damage_model(conf, f'{path}/state_dict.pth')\n",
    "        model = BoxClassifierTTA(model)\n",
    "        model = model.eval().cuda()\n",
    "\n",
    "        boxes = torch.Tensor([[min(p[:,0]), min(p[:,1]), max(p[:,0]), max(p[:,1])] for p in polypoints])\n",
    "        box_probs = model(im.to(self.device), [boxes.to(self.device)]).sigmoid().cpu().numpy()\n",
    "        box_probs /= box_probs.sum(1, keepdims=True)\n",
    "        \n",
    "        for poly, box_prob in zip(polypoints, box_probs):\n",
    "            poly_mask = Polygons([poly]).mask(*self.size).array\n",
    "            probs[:, poly_mask] = box_prob[:,None]\n",
    "\n",
    "        return probs\n",
    "        \n",
    "    \n",
    "    def predict_localization(self, pre_im_path, post_im_path, run_ids, thresh=0.5):\n",
    "        pre_im = self.load_img(pre_im_path)\n",
    "        out = self.predict_seg(pre_im, 'loc', run_ids[0])\n",
    "        for run_id in run_ids[1:]:\n",
    "            out += self.predict_seg(pre_im, None, run_id)\n",
    "        out /= len(run_ids)\n",
    "        return (out > thresh).astype(np.uint8)[0]\n",
    "    \n",
    "    def predict_damage(self, post_im_path, localization, damseg_ids, damod_ids):\n",
    "        post_im = self.load_img(post_im_path)\n",
    "        localization = localization.astype(np.bool)\n",
    "        probs = np.zeros((4, *self.size))\n",
    "        \n",
    "        for run_id in damseg_ids:\n",
    "            pass"
   ]
  },
  {
   "cell_type": "code",
   "execution_count": null,
   "metadata": {},
   "outputs": [],
   "source": []
  },
  {
   "cell_type": "code",
   "execution_count": 149,
   "metadata": {},
   "outputs": [
    {
     "name": "stdout",
     "output_type": "stream",
     "text": [
      "Automatic pdb calling has been turned ON\n"
     ]
    }
   ],
   "source": [
    "%pdb on"
   ]
  },
  {
   "cell_type": "code",
   "execution_count": 150,
   "metadata": {},
   "outputs": [],
   "source": [
    "mm = ModelManager(device='cuda')"
   ]
  },
  {
   "cell_type": "code",
   "execution_count": 151,
   "metadata": {},
   "outputs": [],
   "source": [
    "im = mm.load_img(post)"
   ]
  },
  {
   "cell_type": "code",
   "execution_count": 152,
   "metadata": {},
   "outputs": [
    {
     "name": "stderr",
     "output_type": "stream",
     "text": [
      "WARNING:root:Attribute deform_layers not found in conf.\n"
     ]
    },
    {
     "name": "stdout",
     "output_type": "stream",
     "text": [
      "<All keys matched successfully>\n"
     ]
    }
   ],
   "source": [
    "prob_out = mm.predict_seg_dam(im, localization, mm.DAMSEG_IDS[0])"
   ]
  },
  {
   "cell_type": "code",
   "execution_count": 153,
   "metadata": {},
   "outputs": [
    {
     "name": "stdout",
     "output_type": "stream",
     "text": [
      "<All keys matched successfully>\n"
     ]
    }
   ],
   "source": [
    "prob_out = mm.predict_seg_od(im, localization, mm.DAMOD_IDS[0])"
   ]
  },
  {
   "cell_type": "code",
   "execution_count": null,
   "metadata": {},
   "outputs": [],
   "source": []
  },
  {
   "cell_type": "code",
   "execution_count": 100,
   "metadata": {},
   "outputs": [],
   "source": [
    "ar = np.zeros((4,10))"
   ]
  },
  {
   "cell_type": "code",
   "execution_count": 101,
   "metadata": {},
   "outputs": [
    {
     "ename": "ValueError",
     "evalue": "shape mismatch: value array of shape (4,) could not be broadcast to indexing result of shape (3,4)",
     "output_type": "error",
     "traceback": [
      "\u001b[0;31m---------------------------------------------------------------------------\u001b[0m",
      "\u001b[0;31mValueError\u001b[0m                                Traceback (most recent call last)",
      "\u001b[0;32m<ipython-input-101-a56b17761017>\u001b[0m in \u001b[0;36m<module>\u001b[0;34m\u001b[0m\n\u001b[0;32m----> 1\u001b[0;31m \u001b[0mar\u001b[0m\u001b[0;34m[\u001b[0m\u001b[0;34m:\u001b[0m\u001b[0;34m,\u001b[0m\u001b[0;34m[\u001b[0m\u001b[0;36m0\u001b[0m\u001b[0;34m,\u001b[0m\u001b[0;36m1\u001b[0m\u001b[0;34m,\u001b[0m\u001b[0;36m2\u001b[0m\u001b[0;34m]\u001b[0m\u001b[0;34m]\u001b[0m \u001b[0;34m=\u001b[0m \u001b[0;34m(\u001b[0m\u001b[0;36m1\u001b[0m\u001b[0;34m,\u001b[0m\u001b[0;36m2\u001b[0m\u001b[0;34m,\u001b[0m\u001b[0;36m3\u001b[0m\u001b[0;34m,\u001b[0m\u001b[0;36m5\u001b[0m\u001b[0;34m)\u001b[0m\u001b[0;34m\u001b[0m\u001b[0;34m\u001b[0m\u001b[0m\n\u001b[0m",
      "\u001b[0;31mValueError\u001b[0m: shape mismatch: value array of shape (4,) could not be broadcast to indexing result of shape (3,4)"
     ]
    },
    {
     "name": "stdout",
     "output_type": "stream",
     "text": [
      "> \u001b[0;32m<ipython-input-101-a56b17761017>\u001b[0m(1)\u001b[0;36m<module>\u001b[0;34m()\u001b[0m\n",
      "\u001b[0;32m----> 1 \u001b[0;31m\u001b[0mar\u001b[0m\u001b[0;34m[\u001b[0m\u001b[0;34m:\u001b[0m\u001b[0;34m,\u001b[0m\u001b[0;34m[\u001b[0m\u001b[0;36m0\u001b[0m\u001b[0;34m,\u001b[0m\u001b[0;36m1\u001b[0m\u001b[0;34m,\u001b[0m\u001b[0;36m2\u001b[0m\u001b[0;34m]\u001b[0m\u001b[0;34m]\u001b[0m \u001b[0;34m=\u001b[0m \u001b[0;34m(\u001b[0m\u001b[0;36m1\u001b[0m\u001b[0;34m,\u001b[0m\u001b[0;36m2\u001b[0m\u001b[0;34m,\u001b[0m\u001b[0;36m3\u001b[0m\u001b[0;34m,\u001b[0m\u001b[0;36m5\u001b[0m\u001b[0;34m)\u001b[0m\u001b[0;34m\u001b[0m\u001b[0;34m\u001b[0m\u001b[0m\n",
      "\u001b[0m\n"
     ]
    },
    {
     "name": "stdin",
     "output_type": "stream",
     "text": [
      "ipdb>  q\n"
     ]
    }
   ],
   "source": [
    "ar[:,[0,1,2]] = (1,2,3,5)"
   ]
  },
  {
   "cell_type": "code",
   "execution_count": null,
   "metadata": {},
   "outputs": [],
   "source": []
  },
  {
   "cell_type": "code",
   "execution_count": 67,
   "metadata": {},
   "outputs": [
    {
     "data": {
      "text/plain": [
       "array([0.868465  , 0.4529124 , 0.26270437, 0.20301004], dtype=float32)"
      ]
     },
     "execution_count": 67,
     "metadata": {},
     "output_type": "execute_result"
    }
   ],
   "source": [
    "prob_out[:,0,0]"
   ]
  },
  {
   "cell_type": "code",
   "execution_count": 33,
   "metadata": {},
   "outputs": [
    {
     "name": "stderr",
     "output_type": "stream",
     "text": [
      "WARNING:root:Attribute deform_layers not found in conf.\n",
      "WARNING:root:Attribute dual_input not found in conf.\n"
     ]
    },
    {
     "name": "stdout",
     "output_type": "stream",
     "text": [
      "<All keys matched successfully>\n"
     ]
    },
    {
     "name": "stderr",
     "output_type": "stream",
     "text": [
      "WARNING:root:Attribute deform_layers not found in conf.\n",
      "WARNING:root:Attribute dual_input not found in conf.\n"
     ]
    },
    {
     "name": "stdout",
     "output_type": "stream",
     "text": [
      "<All keys matched successfully>\n"
     ]
    },
    {
     "name": "stderr",
     "output_type": "stream",
     "text": [
      "WARNING:root:Attribute deform_layers not found in conf.\n",
      "WARNING:root:Attribute dual_input not found in conf.\n"
     ]
    },
    {
     "name": "stdout",
     "output_type": "stream",
     "text": [
      "<All keys matched successfully>\n"
     ]
    },
    {
     "name": "stderr",
     "output_type": "stream",
     "text": [
      "WARNING:root:Attribute deform_layers not found in conf.\n",
      "WARNING:root:Attribute dual_input not found in conf.\n"
     ]
    },
    {
     "name": "stdout",
     "output_type": "stream",
     "text": [
      "<All keys matched successfully>\n",
      "CPU times: user 9.68 s, sys: 2.14 s, total: 11.8 s\n",
      "Wall time: 12.8 s\n"
     ]
    }
   ],
   "source": [
    "%time localization = mm.predict_localization(pre, post, mm.LOCALIZATION_IDS, 0.175)"
   ]
  },
  {
   "cell_type": "code",
   "execution_count": null,
   "metadata": {},
   "outputs": [],
   "source": []
  },
  {
   "cell_type": "code",
   "execution_count": null,
   "metadata": {},
   "outputs": [],
   "source": []
  },
  {
   "cell_type": "code",
   "execution_count": 22,
   "metadata": {},
   "outputs": [],
   "source": []
  },
  {
   "cell_type": "code",
   "execution_count": 22,
   "metadata": {},
   "outputs": [],
   "source": [
    "run_id = '8bh5rurv'\n",
    "path = f'{mm.base_dir}/loc/{run_id}'"
   ]
  },
  {
   "cell_type": "code",
   "execution_count": null,
   "metadata": {},
   "outputs": [],
   "source": [
    "('kx9yzcb9', 0.8188149291818385),\n",
    "('y7n4yzya', 0.808878301295482),\n",
    "('c1lit0gf', 0.8086308781844662),"
   ]
  },
  {
   "cell_type": "code",
   "execution_count": 24,
   "metadata": {},
   "outputs": [
    {
     "name": "stderr",
     "output_type": "stream",
     "text": [
      "WARNING:root:Attribute deform_layers not found in conf.\n",
      "WARNING:root:Attribute dual_input not found in conf.\n"
     ]
    },
    {
     "name": "stdout",
     "output_type": "stream",
     "text": [
      "<All keys matched successfully>\n",
      "CPU times: user 41.3 s, sys: 6.18 s, total: 47.4 s\n",
      "Wall time: 19 s\n"
     ]
    }
   ],
   "source": [
    "%time mod = mm.predict_seg(mm.load_img(pre), None, '8bh5rurv')"
   ]
  },
  {
   "cell_type": "code",
   "execution_count": 28,
   "metadata": {},
   "outputs": [
    {
     "data": {
      "text/plain": [
       "(1, 1, 1024, 1024)"
      ]
     },
     "execution_count": 28,
     "metadata": {},
     "output_type": "execute_result"
    }
   ],
   "source": [
    "mod.shape"
   ]
  },
  {
   "cell_type": "code",
   "execution_count": 15,
   "metadata": {},
   "outputs": [
    {
     "name": "stderr",
     "output_type": "stream",
     "text": [
      "WARNING:root:Attribute deform_layers not found in conf.\n",
      "WARNING:root:Attribute dual_input not found in conf.\n"
     ]
    },
    {
     "name": "stdout",
     "output_type": "stream",
     "text": [
      "<All keys matched successfully>\n",
      "CPU times: user 27.9 s, sys: 6.62 s, total: 34.5 s\n",
      "Wall time: 9.08 s\n"
     ]
    }
   ],
   "source": [
    "%time out = mm.predict_seg(mm.load_img(pre), None, '8bh5rurv')"
   ]
  },
  {
   "cell_type": "code",
   "execution_count": 23,
   "metadata": {},
   "outputs": [],
   "source": [
    "localization = localization.astype(np.uint8)"
   ]
  },
  {
   "cell_type": "code",
   "execution_count": null,
   "metadata": {},
   "outputs": [],
   "source": []
  },
  {
   "cell_type": "code",
   "execution_count": null,
   "metadata": {},
   "outputs": [],
   "source": []
  },
  {
   "cell_type": "code",
   "execution_count": null,
   "metadata": {},
   "outputs": [],
   "source": [
    "# segment\n",
    "('8bh5rurv', 0.8848695158958435) \n",
    "('cnqyhmsb', 0.8836771249771118)\n",
    "('ri1dvvam', 0.8832937479019165)\n",
    "('ilhz9vkq', 0.883250892162323)"
   ]
  },
  {
   "cell_type": "code",
   "execution_count": 32,
   "metadata": {},
   "outputs": [],
   "source": [
    "def predict_proba_loc(pre, post, run_id):\n",
    "    pass\n",
    "\n",
    "def predict_proba_dam(pre, post, loc, run_id):\n",
    "    pass\n",
    "\n",
    "def predict_proba_dam_od(pre, post, loc, run_id):\n",
    "    pass\n",
    "\n",
    "def predict(pre, post):\n",
    "    pass"
   ]
  },
  {
   "cell_type": "code",
   "execution_count": 9,
   "metadata": {},
   "outputs": [],
   "source": [
    "%load_ext autoreload\n",
    "%autoreload 2\n",
    "\n",
    "import wandb"
   ]
  },
  {
   "cell_type": "code",
   "execution_count": 10,
   "metadata": {},
   "outputs": [],
   "source": [
    "seg_runs = [\n",
    "    ('8bh5rurv', 0.8848695158958435),\n",
    "    ('cnqyhmsb', 0.8836771249771118),\n",
    "    ('ri1dvvam', 0.8832937479019165),\n",
    "    ('ilhz9vkq', 0.883250892162323),\n",
    "    ('dhmhz041', 0.8829216957092285),\n",
    "    ('7mrir9a3', 0.8828873634338379),\n",
    "    ('yzmxfvrv', 0.8828799724578857),\n",
    "    ('5ywrt6qn', 0.882686972618103),\n",
    "    ('ighbwtdm', 0.8826081156730652),\n",
    "    ('315hd0sm', 0.8825200796127319),\n",
    "    ('y2jgqdox', 0.8821526169776917),\n",
    "    ('xr44njvv', 0.8815780282020569),\n",
    "    ('mb22v5ps', 0.8812705874443054),\n",
    "    ('q6d1n08d', 0.8809899091720581),\n",
    "    ('37y0hk18', 0.8808367848396301),\n",
    "    ('3ag6fjep', 0.8806321024894714),\n",
    "    ('uevn0e5g', 0.8803757429122925),\n",
    "    ('0en8eomx', 0.8799382448196411),\n",
    "    ('o0wao11j', 0.8796645998954773),\n",
    "    ('4qrallkn', 0.8785540461540222),\n",
    "    ('6vya7uxd', 0.8780744671821594),\n",
    "    ('rwa0acur', 0.8775778412818909),\n",
    "    ('qoijsx0h', 0.8775392770767212),\n",
    "    ('l1hf5uuh', 0.8767494559288025),\n",
    "    ('ebwyd2di', 0.8765263557434082),\n",
    "    ('6g0nkv0j', 0.8760395646095276),\n",
    "    ('ph4c64ar', 0.8760202527046204),\n",
    "    ('amkk3cbw', 0.8735491037368774),\n",
    "    ('c1dlbdub', 0.8734628558158875),\n",
    "    ('hiinbqsu', 0.8719046115875244)\n",
    "]\n",
    "\n",
    "seg_dam_runs = [\n",
    "    ('tyi7q17m', 0.8150793196256518),\n",
    "    ('ngmxec6s', 0.8096530334019485),\n",
    "    ('vrgbzaup', 0.8096383585083926),\n",
    "    ('443t9312', 0.8083381310832123),\n",
    "    ('pxcuoulb', 0.8081565006839244),\n",
    "    ('cpumt46r', 0.8080391959243641),\n",
    "    ('viptnxip', 0.8076960005628842),\n",
    "    ('mhczmsoa', 0.8073159432491346),\n",
    "    ('znxzcx0a', 0.8072744354969165),\n",
    "    ('7ar6am07', 0.8071092834046755),\n",
    "    ('lwe6n5c0', 0.8069356023059625),\n",
    "    ('90mnu920', 0.8069068799555296),\n",
    "    ('08meqrfc', 0.806507592996532),\n",
    "    ('j4xmz3we', 0.8061300715307924),\n",
    "    ('5ocdy37k', 0.806018066403344),\n",
    "    ('5pn3bp2o', 0.8057287190805172),\n",
    "    ('0gvvydkt', 0.8057094304994589),\n",
    "    ('or34wjnl', 0.8056978455958853),\n",
    "    ('8n17nhye', 0.8053004703929182),\n",
    "    ('c2hvohg7', 0.8050853487741387),\n",
    "    ('33aasxzr', 0.8048996430920557),\n",
    "    ('40l1n8y6', 0.804133361539285),\n",
    "    ('8slg69rb', 0.8039897395816178),\n",
    "    ('yzy5xz0v', 0.8037504662087867),\n",
    "    ('71urz3vc', 0.803504510967261),\n",
    "    ('plef5k0s', 0.8033634254385499),\n",
    "    ('rfu2ifuh', 0.8031063433726832),\n",
    "    ('5zu1m3bn', 0.8028573049710269),\n",
    "    ('nj4eqar6', 0.8022980617768509),\n",
    "    ('95pmh37c', 0.8022721609563958)\n",
    "]\n",
    "\n",
    "dam_od_runs = [\n",
    "    ('kx9yzcb9', 0.8188149291818385),\n",
    "    ('y7n4yzya', 0.808878301295482),\n",
    "    ('c1lit0gf', 0.8086308781844662),\n",
    "    ('ygnsmpis', 0.8047019871807307),\n",
    "    ('5v3elkfr', 0.8026197042480495),\n",
    "    ('0qjy2h9e', 0.8011403695871695),\n",
    "    ('6s629jji', 0.7983212991363049),\n",
    "    ('umj3wmwh', 0.7972560052280561),\n",
    "    ('phtv4ekc', 0.7952364835570059),\n",
    "    ('ypydqpw5', 0.7950183345724261),\n",
    "    ('9bv7h3cw', 0.7941133157892892),\n",
    "    ('w8ka9fat', 0.7932566433728835),\n",
    "    ('zu0uhkyk', 0.7921109978206695)\n",
    "]"
   ]
  },
  {
   "cell_type": "code",
   "execution_count": null,
   "metadata": {},
   "outputs": [],
   "source": []
  },
  {
   "cell_type": "code",
   "execution_count": null,
   "metadata": {},
   "outputs": [],
   "source": []
  },
  {
   "cell_type": "code",
   "execution_count": null,
   "metadata": {},
   "outputs": [],
   "source": []
  },
  {
   "cell_type": "code",
   "execution_count": null,
   "metadata": {},
   "outputs": [],
   "source": []
  },
  {
   "cell_type": "markdown",
   "metadata": {},
   "source": [
    "## Building Ensemble"
   ]
  },
  {
   "cell_type": "code",
   "execution_count": 11,
   "metadata": {},
   "outputs": [],
   "source": [
    "import numpy as np"
   ]
  },
  {
   "cell_type": "code",
   "execution_count": 14,
   "metadata": {},
   "outputs": [],
   "source": [
    "TOP_DAM_SEG = 5\n",
    "\n",
    "seg_dam_ids = [r_id for r_id, _ in seg_dam_runs[:TOP_DAM_SEG]]"
   ]
  },
  {
   "cell_type": "code",
   "execution_count": 5,
   "metadata": {},
   "outputs": [
    {
     "data": {
      "application/vnd.jupyter.widget-view+json": {
       "model_id": "46ff989645fc4a858ec5ae59e63ca64f",
       "version_major": 2,
       "version_minor": 0
      },
      "text/plain": [
       "HBox(children=(IntProgress(value=0, max=4), HTML(value='')))"
      ]
     },
     "metadata": {},
     "output_type": "display_data"
    },
    {
     "name": "stdout",
     "output_type": "stream",
     "text": [
      "\n"
     ]
    }
   ],
   "source": [
    "from tqdm.notebook import tqdm\n",
    "y_d = np.load('../dev/damage.npy')\n",
    "y_d += 1\n",
    "\n",
    "y_d_pred = np.load(f'../dev/segment-damage/{seg_dam_ids[0]}.npy')\n",
    "y_d_pred /= y_d_pred.sum(1, keepdims=True)\n",
    "\n",
    "for run_id in tqdm(seg_dam_ids[1:]):\n",
    "    probs = np.load(f'../dev/segment-damage/{run_id}.npy')\n",
    "    probs /= probs.sum(1, keepdims=True)\n",
    "    y_d_pred += probs\n",
    "del probs\n",
    "y_d_pred /= len(seg_dam_ids)\n",
    "#y_d_pred = y_d_pred.argmax(1)\n",
    "#y_d_pred += 1"
   ]
  },
  {
   "cell_type": "code",
   "execution_count": 40,
   "metadata": {},
   "outputs": [],
   "source": [
    "msk_dmg = y_d_pred.argmax(1) + 1"
   ]
  },
  {
   "cell_type": "code",
   "execution_count": null,
   "metadata": {},
   "outputs": [],
   "source": []
  },
  {
   "cell_type": "code",
   "execution_count": 13,
   "metadata": {},
   "outputs": [],
   "source": [
    "TOP_DAM_OD = 4\n",
    "dam_od_ids = [r_id for r_id, _ in dam_od_runs[:TOP_DAM_OD]]"
   ]
  },
  {
   "cell_type": "code",
   "execution_count": 7,
   "metadata": {},
   "outputs": [
    {
     "data": {
      "application/vnd.jupyter.widget-view+json": {
       "model_id": "39e203384abd41b59bb90c9a102699ea",
       "version_major": 2,
       "version_minor": 0
      },
      "text/plain": [
       "HBox(children=(IntProgress(value=0, max=4), HTML(value='')))"
      ]
     },
     "metadata": {},
     "output_type": "display_data"
    },
    {
     "name": "stderr",
     "output_type": "stream",
     "text": [
      "/opt/anaconda3/lib/python3.7/site-packages/IPython/core/interactiveshell.py:3249: FutureWarning: arrays to stack must be passed as a \"sequence\" type such as list or tuple. Support for non-sequence iterables such as generators is deprecated as of NumPy 1.16 and will raise an error in the future.\n",
      "  if (await self.run_code(code, result,  async_=asy)):\n"
     ]
    },
    {
     "name": "stdout",
     "output_type": "stream",
     "text": [
      "\n"
     ]
    }
   ],
   "source": [
    "y_d_preds = np.stack([\n",
    "    np.load(f'../dev/y_pred/damage-od/{run_id}.npy')\n",
    "] for run_id in tqdm(dam_od_ids))"
   ]
  },
  {
   "cell_type": "code",
   "execution_count": 8,
   "metadata": {},
   "outputs": [],
   "source": [
    "top_n = 2"
   ]
  },
  {
   "cell_type": "code",
   "execution_count": 11,
   "metadata": {},
   "outputs": [
    {
     "data": {
      "text/plain": [
       "(2, 280, 1024, 1024, 1)"
      ]
     },
     "execution_count": 11,
     "metadata": {},
     "output_type": "execute_result"
    }
   ],
   "source": [
    "od_msk.sum(-1, keepdims=True).shape"
   ]
  },
  {
   "cell_type": "code",
   "execution_count": 18,
   "metadata": {},
   "outputs": [
    {
     "ename": "MemoryError",
     "evalue": "Unable to allocate array with shape (4, 280, 1024, 1024, 4) and data type float32",
     "output_type": "error",
     "traceback": [
      "\u001b[0;31m---------------------------------------------------------------------------\u001b[0m",
      "\u001b[0;31mMemoryError\u001b[0m                               Traceback (most recent call last)",
      "\u001b[0;32m<ipython-input-18-7a87f5f0185a>\u001b[0m in \u001b[0;36m<module>\u001b[0;34m\u001b[0m\n\u001b[1;32m      1\u001b[0m \u001b[0mtop_n\u001b[0m \u001b[0;34m=\u001b[0m \u001b[0;36m4\u001b[0m\u001b[0;34m\u001b[0m\u001b[0;34m\u001b[0m\u001b[0m\n\u001b[1;32m      2\u001b[0m \u001b[0mod_msk\u001b[0m \u001b[0;34m=\u001b[0m \u001b[0my_d_preds\u001b[0m\u001b[0;34m[\u001b[0m\u001b[0;34m:\u001b[0m\u001b[0mtop_n\u001b[0m\u001b[0;34m,\u001b[0m\u001b[0;36m0\u001b[0m\u001b[0;34m]\u001b[0m\u001b[0;34m\u001b[0m\u001b[0;34m\u001b[0m\u001b[0m\n\u001b[0;32m----> 3\u001b[0;31m \u001b[0mod_msk\u001b[0m \u001b[0;34m=\u001b[0m \u001b[0;34m(\u001b[0m\u001b[0mod_msk\u001b[0m\u001b[0;34m/\u001b[0m\u001b[0mod_msk\u001b[0m\u001b[0;34m.\u001b[0m\u001b[0msum\u001b[0m\u001b[0;34m(\u001b[0m\u001b[0;34m-\u001b[0m\u001b[0;36m1\u001b[0m\u001b[0;34m,\u001b[0m \u001b[0mkeepdims\u001b[0m\u001b[0;34m=\u001b[0m\u001b[0;32mTrue\u001b[0m\u001b[0;34m)\u001b[0m\u001b[0;34m)\u001b[0m\u001b[0;34m.\u001b[0m\u001b[0mmean\u001b[0m\u001b[0;34m(\u001b[0m\u001b[0;36m0\u001b[0m\u001b[0;34m)\u001b[0m\u001b[0;34m.\u001b[0m\u001b[0mtranspose\u001b[0m\u001b[0;34m(\u001b[0m\u001b[0;36m0\u001b[0m\u001b[0;34m,\u001b[0m\u001b[0;36m3\u001b[0m\u001b[0;34m,\u001b[0m\u001b[0;36m1\u001b[0m\u001b[0;34m,\u001b[0m\u001b[0;36m2\u001b[0m\u001b[0;34m)\u001b[0m\u001b[0;34m\u001b[0m\u001b[0;34m\u001b[0m\u001b[0m\n\u001b[0m\u001b[1;32m      4\u001b[0m \u001b[0;34m\u001b[0m\u001b[0m\n\u001b[1;32m      5\u001b[0m \u001b[0mmsk_dmg\u001b[0m \u001b[0;34m=\u001b[0m \u001b[0;34m(\u001b[0m\u001b[0;34m(\u001b[0m\u001b[0mlen\u001b[0m\u001b[0;34m(\u001b[0m\u001b[0mseg_dam_ids\u001b[0m\u001b[0;34m)\u001b[0m\u001b[0;34m*\u001b[0m\u001b[0my_d_pred\u001b[0m \u001b[0;34m+\u001b[0m \u001b[0mtop_n\u001b[0m\u001b[0;34m*\u001b[0m\u001b[0mod_msk\u001b[0m\u001b[0;34m)\u001b[0m\u001b[0;34m)\u001b[0m\u001b[0;34m.\u001b[0m\u001b[0margmax\u001b[0m\u001b[0;34m(\u001b[0m\u001b[0;36m1\u001b[0m\u001b[0;34m)\u001b[0m \u001b[0;34m+\u001b[0m \u001b[0;36m1\u001b[0m\u001b[0;34m\u001b[0m\u001b[0;34m\u001b[0m\u001b[0m\n",
      "\u001b[0;31mMemoryError\u001b[0m: Unable to allocate array with shape (4, 280, 1024, 1024, 4) and data type float32"
     ]
    }
   ],
   "source": [
    "top_n = 4\n",
    "od_msk = y_d_preds[:top_n,0]\n",
    "od_msk = (od_msk/od_msk.sum(-1, keepdims=True)).mean(0).transpose(0,3,1,2)\n",
    "\n",
    "msk_dmg = ((len(seg_dam_ids)*y_d_pred + top_n*od_msk)).argmax(1) + 1"
   ]
  },
  {
   "cell_type": "code",
   "execution_count": 27,
   "metadata": {},
   "outputs": [],
   "source": [
    "msk_dmg = y_d_preds[0,0].argmax(-1) + 1"
   ]
  },
  {
   "cell_type": "code",
   "execution_count": null,
   "metadata": {},
   "outputs": [],
   "source": []
  },
  {
   "cell_type": "code",
   "execution_count": null,
   "metadata": {},
   "outputs": [],
   "source": [
    "## def EVAL\n",
    "\n",
    "from xv.submission_metrics import RowPairCalculator, F1Recorder\n",
    "\n",
    "y_d_pred_filtered = msk_dmg * y_pred\n",
    "y_pred_damage = y_d_pred_filtered[y]\n",
    "y_true_damage = y_d[y]\n",
    "damage_f1s = [F1Recorder(*RowPairCalculator.compute_tp_fn_fp(y_pred_damage, y_true_damage, cls), cls) for cls in range(1,5)]\n",
    "\n",
    "building_f1 = F1Recorder(*RowPairCalculator.compute_tp_fn_fp(y_pred, y, 1), 'building')\n",
    "xs = [d.f1 for d in damage_f1s]\n",
    "damage_score = len(xs) / sum((x+1e-6)**-1 for x in xs)\n",
    "building_score = building_f1.f1\n",
    "score = 0.3*building_score + 0.7*damage_score"
   ]
  },
  {
   "cell_type": "code",
   "execution_count": null,
   "metadata": {},
   "outputs": [],
   "source": [
    "building_score, damage_score, score"
   ]
  },
  {
   "cell_type": "code",
   "execution_count": 14,
   "metadata": {},
   "outputs": [
    {
     "data": {
      "text/plain": [
       "(0.867134416729549, 0.8047028070200527, 0.8234322899329016)"
      ]
     },
     "execution_count": 14,
     "metadata": {},
     "output_type": "execute_result"
    }
   ],
   "source": [
    "building_score, damage_score, score # 2 od "
   ]
  },
  {
   "cell_type": "code",
   "execution_count": 19,
   "metadata": {},
   "outputs": [
    {
     "data": {
      "text/plain": [
       "(0.867134416729549, 0.8025184281356607, 0.8219032247138272)"
      ]
     },
     "execution_count": 19,
     "metadata": {},
     "output_type": "execute_result"
    }
   ],
   "source": [
    "building_score, damage_score, score"
   ]
  },
  {
   "cell_type": "code",
   "execution_count": 24,
   "metadata": {},
   "outputs": [
    {
     "data": {
      "text/plain": [
       "(0.867134416729549, 0.8039647871455755, 0.8229156760207674)"
      ]
     },
     "execution_count": 24,
     "metadata": {},
     "output_type": "execute_result"
    }
   ],
   "source": [
    "building_score, damage_score, score # 5 "
   ]
  },
  {
   "cell_type": "code",
   "execution_count": 30,
   "metadata": {},
   "outputs": [
    {
     "data": {
      "text/plain": [
       "(0.867134416729549, 0.8033511890136883, 0.8224861573284465)"
      ]
     },
     "execution_count": 30,
     "metadata": {},
     "output_type": "execute_result"
    }
   ],
   "source": [
    "building_score, damage_score, score # 6"
   ]
  },
  {
   "cell_type": "code",
   "execution_count": 42,
   "metadata": {},
   "outputs": [
    {
     "data": {
      "text/plain": [
       "(0.867134416729549, 0.8038322889349666, 0.8228229272733414)"
      ]
     },
     "execution_count": 42,
     "metadata": {},
     "output_type": "execute_result"
    }
   ],
   "source": [
    "building_score, damage_score, score # .9 decay"
   ]
  },
  {
   "cell_type": "code",
   "execution_count": null,
   "metadata": {},
   "outputs": [],
   "source": [
    "building_score, damage_score, score"
   ]
  },
  {
   "cell_type": "code",
   "execution_count": 9,
   "metadata": {},
   "outputs": [],
   "source": [
    "import numpy as np\n",
    "y_pred = np.load('../dev/y_pred/y_pred.npy')"
   ]
  },
  {
   "cell_type": "code",
   "execution_count": 15,
   "metadata": {},
   "outputs": [],
   "source": [
    "TOP_SEGMENT = 4\n",
    "seg_ids = [r_id for r_id, _ in seg_runs[:TOP_SEGMENT]]"
   ]
  },
  {
   "cell_type": "code",
   "execution_count": 10,
   "metadata": {},
   "outputs": [],
   "source": [
    "y = np.load('../dev/buildings.npy')\n",
    "\n",
    "#X = [np.load(f'../dev/segment/{run_id}.npy') for run_id in seg_ids]\n",
    "#X = np.stack(X, axis=0).mean(0)\n",
    "\n",
    "y = y.astype(np.bool)\n",
    "#X = X.astype(np.float16)"
   ]
  },
  {
   "cell_type": "code",
   "execution_count": null,
   "metadata": {},
   "outputs": [],
   "source": [
    "X.shape, y.shape"
   ]
  },
  {
   "cell_type": "code",
   "execution_count": 61,
   "metadata": {},
   "outputs": [],
   "source": [
    "thresh = 0.175\n",
    "y_pred = (X[:,0] > thresh)"
   ]
  },
  {
   "cell_type": "code",
   "execution_count": 21,
   "metadata": {},
   "outputs": [],
   "source": [
    "TOP_DAM_SEG = 5\n",
    "TOP_DAM_OD = 5\n",
    "\n",
    "seg_dam_ids = [r_id for r_id, _ in seg_dam_runs[:TOP_DAM_SEG]]\n",
    "dam_od_ids = [r_id for r_id, _ in dam_od_runs[:TOP_DAM_OD]]"
   ]
  },
  {
   "cell_type": "code",
   "execution_count": null,
   "metadata": {},
   "outputs": [],
   "source": [
    "\n",
    "#PROJECT = 'building-seg-damage'\n",
    "#METRIC = \"hmean:damage:categorical:f1\"\n",
    "\n",
    "#PROJECT = 'building-damage'\n",
    "#METRIC = \"hmean:damage:categorical:f1\"\n",
    "\n"
   ]
  },
  {
   "cell_type": "code",
   "execution_count": 25,
   "metadata": {},
   "outputs": [],
   "source": [
    "for rid in seg_dam_ids:\n",
    "    project = 'building-seg-damage'\n",
    "    path = f\"xvr-hlt/{project}/{rid}\"\n",
    "    conf_file = wandb.restore('config.yaml', run_path=path, replace=True).name\n",
    "    state_file = wandb.restore('state_dict.pth', run_path=path, replace=True).name\n",
    "    pth = f'../models/dam_seg/{rid}/'\n",
    "    !mkdir {pth}\n",
    "    !mv config.yaml {pth}\n",
    "    !mv state_dict.pth {pth}"
   ]
  },
  {
   "cell_type": "code",
   "execution_count": 26,
   "metadata": {},
   "outputs": [],
   "source": [
    "for rid in dam_od_ids:\n",
    "    project = 'building-damage'\n",
    "    path = f\"xvr-hlt/{project}/{rid}\"\n",
    "    conf_file = wandb.restore('config.yaml', run_path=path, replace=True).name\n",
    "    state_file = wandb.restore('state_dict.pth', run_path=path, replace=True).name\n",
    "    pth = f'../models/dam_od/{rid}/'\n",
    "    !mkdir {pth}\n",
    "    !mv config.yaml {pth}\n",
    "    !mv state_dict.pth {pth}"
   ]
  },
  {
   "cell_type": "code",
   "execution_count": 30,
   "metadata": {},
   "outputs": [
    {
     "data": {
      "text/plain": [
       "['8bh5rurv', 'cnqyhmsb', 'ri1dvvam', 'ilhz9vkq']"
      ]
     },
     "execution_count": 30,
     "metadata": {},
     "output_type": "execute_result"
    }
   ],
   "source": [
    "seg_ids"
   ]
  },
  {
   "cell_type": "code",
   "execution_count": 31,
   "metadata": {},
   "outputs": [],
   "source": [
    "for rid in seg_ids:\n",
    "    project = 'sky-eye-full'\n",
    "    path = f\"xvr-hlt/{project}/{rid}\"\n",
    "    conf_file = wandb.restore('config.yaml', run_path=path, replace=True).name\n",
    "    state_file = wandb.restore('state_dict.pth', run_path=path, replace=True).name\n",
    "    pth = f'../models/loc/{rid}/'\n",
    "    !mkdir {pth}\n",
    "    !mv config.yaml {pth}\n",
    "    !mv state_dict.pth {pth}"
   ]
  },
  {
   "cell_type": "code",
   "execution_count": 20,
   "metadata": {},
   "outputs": [
    {
     "data": {
      "text/plain": [
       "('./config.yaml', './state_dict.pth')"
      ]
     },
     "execution_count": 20,
     "metadata": {},
     "output_type": "execute_result"
    }
   ],
   "source": [
    "conf_file, state_file"
   ]
  },
  {
   "cell_type": "code",
   "execution_count": 22,
   "metadata": {},
   "outputs": [
    {
     "name": "stdout",
     "output_type": "stream",
     "text": [
      "dam_od\tdam_seg  loc\n"
     ]
    }
   ],
   "source": [
    "!ls ../models/"
   ]
  },
  {
   "cell_type": "code",
   "execution_count": null,
   "metadata": {},
   "outputs": [],
   "source": []
  },
  {
   "cell_type": "code",
   "execution_count": null,
   "metadata": {},
   "outputs": [],
   "source": []
  },
  {
   "cell_type": "code",
   "execution_count": null,
   "metadata": {},
   "outputs": [],
   "source": [
    "seg_run_path = f\"xvr-hlt/{project}/{run_id}\"\n",
    "conf_file = wandb.restore('config.yaml', run_path=seg_run_path, replace=True).name\n",
    "state_file = wandb.restore('state_dict.pth', run_path=seg_run_path, replace=True).name"
   ]
  },
  {
   "cell_type": "code",
   "execution_count": 11,
   "metadata": {},
   "outputs": [],
   "source": [
    "from xv import io\n",
    "import ttach as tta\n",
    "import torch\n",
    "from tqdm import tqdm_notebook as tqdm\n",
    "import numpy as np\n",
    "from xv.tta import BoxClassifierTTA\n",
    "from imantics import Polygons\n",
    "\n",
    "@torch.no_grad()\n",
    "def predict_seg_run(run_id, building_preds, project, to):\n",
    "    seg_run_path = f\"xvr-hlt/{project}/{run_id}\"\n",
    "    conf_file = wandb.restore('config.yaml', run_path=seg_run_path, replace=True).name\n",
    "    state_file = wandb.restore('state_dict.pth', run_path=seg_run_path, replace=True).name\n",
    "    conf = io.Config(conf_file)\n",
    "    conf.filter_none = False # predict on all\n",
    "    \n",
    "    model, preproc = io.load_segmentation_model(conf, state_file)\n",
    "    model.eval().cuda();\n",
    "    model = tta.SegmentationTTAWrapper(model, tta.aliases.d4_transform(), merge_mode='mean')\n",
    "    \n",
    "    dev_data, dev_loader = io.load_dev_data(conf, preproc)\n",
    "    \n",
    "    ars = []\n",
    "    \n",
    "    for (im, _), y_pred in tqdm(zip(dev_loader, building_preds)):\n",
    "        out = model(im.cuda()).sigmoid()\n",
    "        \n",
    "        damage_map = np.zeros((1024,1024))\n",
    "        for poly in Polygons.from_mask(y_pred):\n",
    "            poly_mask = Polygons.create([poly]).mask(1024, 1024).array\n",
    "            cls = out[:,poly_mask].mean(1).argmax() + 1\n",
    "            damage_map[poly_mask] = cls\n",
    "        ars.append(out.cpu().numpy())\n",
    "    \n",
    "    preds = np.concatenate(ars)\n",
    "    np.save(f'{to}/{run_id}', preds)\n",
    "\n",
    "\n",
    "from imantics import Polygons\n",
    "Polygons.create([poly]).mask(1024, 1024).array\n",
    "    \n",
    "@torch.no_grad()\n",
    "def predict_od(run_id, project, to):\n",
    "    seg_run_path = f\"xvr-hlt/{project}/{run_id}\"\n",
    "    conf_file = wandb.restore('config.yaml', run_path=seg_run_path, replace=True).name\n",
    "    state_file = wandb.restore('state_dict.pth', run_path=seg_run_path, replace=True).name\n",
    "    conf = io.Config(conf_file)\n",
    "\n",
    "    dmg_model = io.load_damage_model(conf, state_file)\n",
    "    dmg_model = BoxClassifierTTA(dmg_model)\n",
    "    dmg_model = dmg_model.eval().cuda()\n",
    "    \n",
    "    for (im, _), y_pred in tqdm(zip(dev_loader, building_preds)):\n",
    "        pass\n",
    "    return dmg_model"
   ]
  },
  {
   "cell_type": "code",
   "execution_count": null,
   "metadata": {},
   "outputs": [],
   "source": [
    "from xv import io\n",
    "\n",
    "\n",
    "import torch\n",
    "from tqdm import tqdm_notebook as tqdm\n",
    "import numpy as np\n",
    "from xv.tta import BoxClassifierTTA\n",
    "\n",
    "@torch.no_grad()\n",
    "def predict_seg_run(run_id, project, to):\n",
    "    seg_run_path = f\"xvr-hlt/{project}/{run_id}\"\n",
    "    conf_file = wandb.restore('config.yaml', run_path=seg_run_path, replace=True).name\n",
    "    state_file = wandb.restore('state_dict.pth', run_path=seg_run_path, replace=True).name\n",
    "    conf = io.Config(conf_file)\n",
    "    conf.filter_none = False # predict on all\n",
    "    \n",
    "    model, preproc = io.load_segmentation_model(conf, state_file)\n",
    "    model.eval().cuda();\n",
    "    model = tta.SegmentationTTAWrapper(model, tta.aliases.d4_transform(), merge_mode='mean')\n",
    "    \n",
    "    dev_data, dev_loader = io.load_dev_data(conf, preproc)\n",
    "    \n",
    "    ars = []\n",
    "    \n",
    "    for im, mask in tqdm(dev_loader):\n",
    "        out = model(im.cuda()).sigmoid()\n",
    "        ars.append(out.cpu().numpy())\n",
    "    \n",
    "    preds = np.concatenate(ars)\n",
    "    np.save(f'{to}/{run_id}', preds)\n",
    "\n",
    "@torch.no_grad()\n",
    "def predict_od(run_id, project, to):\n",
    "    return dmg_model"
   ]
  },
  {
   "cell_type": "code",
   "execution_count": null,
   "metadata": {},
   "outputs": [],
   "source": []
  },
  {
   "cell_type": "code",
   "execution_count": 44,
   "metadata": {},
   "outputs": [
    {
     "name": "stderr",
     "output_type": "stream",
     "text": [
      "/home/jupyter/sky-eye/xv/io.py:37: YAMLLoadWarning: calling yaml.load() without Loader=... is deprecated, as the default Loader is unsafe. Please read https://msg.pyyaml.org/load for full details.\n",
      "  _conf = yaml.load(file_path)\n",
      "100%|██████████| 280/280 [00:04<00:00, 58.20it/s]\n"
     ]
    },
    {
     "data": {
      "application/vnd.jupyter.widget-view+json": {
       "model_id": "2db81ebb7f73439c9484b5694f5dac64",
       "version_major": 2,
       "version_minor": 0
      },
      "text/plain": [
       "HBox(children=(IntProgress(value=0, max=280), HTML(value='')))"
      ]
     },
     "metadata": {},
     "output_type": "display_data"
    },
    {
     "name": "stdout",
     "output_type": "stream",
     "text": [
      "\n"
     ]
    }
   ],
   "source": [
    "import segmentation_models_pytorch as smp\n",
    "from xv import io\n",
    "import numpy as np\n",
    "\n",
    "conf=io.Config('config.yaml')\n",
    "\n",
    "conf.n_cpus = 8\n",
    "conf.eval_resolution = 1024\n",
    "conf.mode = 'categorical'\n",
    "conf.filter_none = False\n",
    "conf.dual_input = False\n",
    "preproc_fun = smp.encoders.get_preprocessing_fn('efficientnet-b7')\n",
    "dev_data, dev_loader = io.load_dev_data(conf, preproc_fun)\n",
    "damage_ims = np.stack([im for im, _ in tqdm(dev_data)])"
   ]
  },
  {
   "cell_type": "code",
   "execution_count": 49,
   "metadata": {},
   "outputs": [],
   "source": [
    "from xv import io\n",
    "from tqdm.notebook import tqdm\n",
    "from xv.tta import BoxClassifierTTA\n",
    "import torch\n",
    "from tqdm.notebook import tqdm\n",
    "from imantics import Polygons\n",
    "import cv2\n",
    "\n",
    "\n",
    "run_id = dam_od_ids[0]\n",
    "project = 'building-damage'\n",
    "\n",
    "@torch.no_grad()\n",
    "def get_msk_dmgs(run_id, project, damage_ims, y_pred):\n",
    "    seg_run_path = f\"xvr-hlt/{project}/{run_id}\"\n",
    "    conf_file = wandb.restore('config.yaml', run_path=seg_run_path, replace=True).name\n",
    "    state_file = wandb.restore('state_dict.pth', run_path=seg_run_path, replace=True).name\n",
    "    conf = io.Config(conf_file)\n",
    "    dmg_model = io.load_damage_model(conf, state_file)\n",
    "\n",
    "    dmg_model = BoxClassifierTTA(dmg_model)\n",
    "    dmg_model = dmg_model.eval().cuda()\n",
    "    \n",
    "    msk_dmgs = np.zeros((280, 1024, 1024, 4), dtype=np.float32)\n",
    "    for msk_dmg, damage_im, building_pred in tqdm(zip(msk_dmgs, damage_ims, y_pred)):\n",
    "        polys = Polygons.from_mask(building_pred)\n",
    "        polypoints = polys.points\n",
    "\n",
    "        if polypoints:\n",
    "            boxes = torch.Tensor([[min(p[:,0]), min(p[:,1]), max(p[:,0]), max(p[:,1])] for p in polypoints])\n",
    "            out = dmg_model(torch.Tensor(damage_im)[None].cuda(), [boxes.cuda()])\n",
    "            #assert False\n",
    "            probs = out.sigmoid().cpu().numpy()\n",
    "            for poly, prob in zip(polypoints, probs):\n",
    "                msk_dmg[Polygons([poly]).mask(1024,1024).array] = prob\n",
    "    return msk_dmgs"
   ]
  },
  {
   "cell_type": "code",
   "execution_count": null,
   "metadata": {},
   "outputs": [],
   "source": [
    "from xv.submission_metrics import RowPairCalculator, F1Recorder\n",
    "\n",
    "y_d_pred_filtered = msk_dmg * y_pred\n",
    "y_pred_damage = y_d_pred_filtered[y]\n",
    "y_true_damage = y_d[y]\n",
    "damage_f1s = [F1Recorder(*RowPairCalculator.compute_tp_fn_fp(y_pred_damage, y_true_damage, cls), cls) for cls in range(1,5)]\n",
    "\n",
    "building_f1 = F1Recorder(*RowPairCalculator.compute_tp_fn_fp(y_pred, y, 1), 'building')\n",
    "xs = [d.f1 for d in damage_f1s]\n",
    "damage_score = len(xs) / sum((x+1e-6)**-1 for x in xs)\n",
    "building_score = building_f1.f1\n",
    "score = 0.3*building_score + 0.7*damage_score"
   ]
  },
  {
   "cell_type": "code",
   "execution_count": null,
   "metadata": {},
   "outputs": [],
   "source": [
    "building_score, damage_score, score"
   ]
  },
  {
   "cell_type": "code",
   "execution_count": 28,
   "metadata": {},
   "outputs": [
    {
     "data": {
      "text/plain": [
       "(0.867134416729549, 0.7787355957896358, 0.8052552420716097)"
      ]
     },
     "execution_count": 28,
     "metadata": {},
     "output_type": "execute_result"
    }
   ],
   "source": [
    "building_score, damage_score, score"
   ]
  },
  {
   "cell_type": "code",
   "execution_count": 29,
   "metadata": {},
   "outputs": [
    {
     "data": {
      "text/plain": [
       "(0.867134416729549, 0.7787355957896358, 0.8052552420716097)"
      ]
     },
     "execution_count": 29,
     "metadata": {},
     "output_type": "execute_result"
    }
   ],
   "source": [
    "building_score, damage_score, score"
   ]
  },
  {
   "cell_type": "code",
   "execution_count": 17,
   "metadata": {},
   "outputs": [
    {
     "data": {
      "text/plain": [
       "(0.867134416729549, 0.7835007926782325, 0.8085908798936274)"
      ]
     },
     "execution_count": 17,
     "metadata": {},
     "output_type": "execute_result"
    }
   ],
   "source": [
    "building_score, damage_score, score"
   ]
  },
  {
   "cell_type": "code",
   "execution_count": 64,
   "metadata": {},
   "outputs": [
    {
     "data": {
      "text/plain": [
       "(0.867134416729549, 0.8085908798936274, 0.7835007926782325)"
      ]
     },
     "execution_count": 64,
     "metadata": {},
     "output_type": "execute_result"
    }
   ],
   "source": [
    "building_score, score, damage_score"
   ]
  },
  {
   "cell_type": "code",
   "execution_count": 21,
   "metadata": {},
   "outputs": [],
   "source": [
    "import torch\n",
    "from imantics import Polygons\n",
    "import cv2"
   ]
  },
  {
   "cell_type": "code",
   "execution_count": null,
   "metadata": {},
   "outputs": [],
   "source": [
    "for run_id in tqdm(seg_ids[10:]):\n",
    "    predict_seg_run(run_id, 'sky-eye-full', '../dev/segment/')"
   ]
  },
  {
   "cell_type": "code",
   "execution_count": null,
   "metadata": {},
   "outputs": [],
   "source": [
    "for run_id in tqdm(seg_dam_ids[:10]):\n",
    "    predict_seg_run(run_id, 'building-seg-damage', '../dev/segment-damage/')"
   ]
  },
  {
   "cell_type": "code",
   "execution_count": null,
   "metadata": {},
   "outputs": [],
   "source": [
    "import wandb\n",
    "\n",
    "api = wandb.Api()\n",
    "\n",
    "PROJECT = 'sky-eye-full'\n",
    "METRIC = \"building:f1\"\n",
    "\n",
    "#PROJECT = 'building-seg-damage'\n",
    "#METRIC = \"hmean:damage:categorical:f1\"\n",
    "\n",
    "#PROJECT = 'building-damage'\n",
    "#METRIC = \"hmean:damage:categorical:f1\"\n",
    "\n",
    "\n",
    "runs = api.runs(f'xvr-hlt/{PROJECT}')\n",
    "\n",
    "from concurrent.futures import ThreadPoolExecutor\n",
    "from tqdm import tqdm_notebook as tqdm\n",
    "\n",
    "with ThreadPoolExecutor(16) as pool:\n",
    "    scores = list(tqdm(pool.map(lambda r: get_score(r, metric=METRIC), runs)))\n",
    "    \n",
    "scores = dict(zip(runs, scores))\n",
    "\n",
    "kvs = []\n",
    "vs = set()\n",
    "\n",
    "for k,v in sorted(((k,v) for k,v in scores.items() if v is not None), key=lambda kv: -kv[1]):\n",
    "    if v in vs:\n",
    "        continue\n",
    "    vs.add(v)\n",
    "    kvs.append((k,v))"
   ]
  },
  {
   "cell_type": "code",
   "execution_count": null,
   "metadata": {},
   "outputs": [],
   "source": []
  },
  {
   "cell_type": "code",
   "execution_count": null,
   "metadata": {},
   "outputs": [],
   "source": [
    "### Def get Poly-average\n",
    "\n",
    "from imantics import Polygons\n",
    "from xv.submission_metrics import RowPairCalculator, F1Recorder\n",
    "\n",
    "ars = np.zeros((280,1024,1024), dtype=np.uint8)\n",
    "\n",
    "for yb_pred, out, damage_map in tqdm(zip(y_pred, y_d_pred, ars)):\n",
    "    for poly in Polygons.from_mask(yb_pred):\n",
    "        poly_mask = Polygons.create([poly]).mask(1024, 1024).array\n",
    "        cls = out[:,poly_mask].mean(1).argmax() + 1\n",
    "        damage_map[poly_mask] = cls\n",
    "        \n",
    "\n",
    "y_d_pred_filtered = ars * y_pred\n",
    "y_pred_damage = y_d_pred_filtered[y]\n",
    "y_true_damage = y_d[y]\n",
    "damage_f1s = [F1Recorder(*RowPairCalculator.compute_tp_fn_fp(y_pred_damage, y_true_damage, cls), cls) for cls in range(1,5)]\n",
    "\n",
    "building_f1 = F1Recorder(*RowPairCalculator.compute_tp_fn_fp(y_pred, y, 1), 'building')\n",
    "xs = [d.f1 for d in damage_f1s]\n",
    "damage_score = len(xs) / sum((x+1e-6)**-1 for x in xs)\n",
    "building_score = building_f1.f1\n",
    "score = 0.3*building_score + 0.7*damage_score"
   ]
  },
  {
   "cell_type": "code",
   "execution_count": null,
   "metadata": {},
   "outputs": [],
   "source": []
  },
  {
   "cell_type": "code",
   "execution_count": null,
   "metadata": {},
   "outputs": [],
   "source": []
  },
  {
   "cell_type": "code",
   "execution_count": null,
   "metadata": {},
   "outputs": [],
   "source": [
    "### Find threshes\n",
    "\n",
    "threshes = np.arange(0.15, 0.25, 0.0125)\n",
    "\n",
    "from xv.submission_metrics import RowPairCalculator, F1Recorder\n",
    "\n",
    "from pprint import pprint\n",
    "from IPython.display import Markdown, display\n",
    "\n",
    "for thresh in threshes:\n",
    "    print(f\"### {thresh: .3f}\")\n",
    "    y_pred = (X[:,0] > thresh)\n",
    "    y_d_pred_filtered = y_d_pred * y_pred\n",
    "    y_pred_damage = y_d_pred_filtered[y]\n",
    "    y_true_damage = y_d[y]\n",
    "    damage_f1s = [F1Recorder(*RowPairCalculator.compute_tp_fn_fp(y_pred_damage, y_true_damage, cls), cls) for cls in range(1,5)]\n",
    "    building_f1 = F1Recorder(*RowPairCalculator.compute_tp_fn_fp(y_pred, y, 1), 'building')\n",
    "    xs = [d.f1 for d in damage_f1s]\n",
    "    damage_score = len(xs) / sum((x+1e-6)**-1 for x in xs)\n",
    "    building_score = building_f1.f1\n",
    "    score = 0.3*building_score + 0.7*damage_score\n",
    "    print(f\"building: {building_score: .4f}, 'damage': {damage_score: .4f}, overall: {score: .6f}\\n\")"
   ]
  }
 ],
 "metadata": {
  "kernelspec": {
   "display_name": "Python 3",
   "language": "python",
   "name": "python3"
  },
  "language_info": {
   "codemirror_mode": {
    "name": "ipython",
    "version": 3
   },
   "file_extension": ".py",
   "mimetype": "text/x-python",
   "name": "python",
   "nbconvert_exporter": "python",
   "pygments_lexer": "ipython3",
   "version": "3.7.4"
  }
 },
 "nbformat": 4,
 "nbformat_minor": 4
}
