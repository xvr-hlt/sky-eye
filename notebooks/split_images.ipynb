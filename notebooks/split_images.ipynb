{
 "cells": [
  {
   "cell_type": "code",
   "execution_count": 2,
   "metadata": {},
   "outputs": [],
   "source": [
    "train_dir = '../../datasets/xview/train'\n",
    "test_dir = '../../datasets/xview/test'\n",
    "suppl_dir = '../../datasets/xview/tier3'\n",
    "tertiary_dir = '../../datasets/spacenet'\n"
   ]
  },
  {
   "cell_type": "code",
   "execution_count": 3,
   "metadata": {},
   "outputs": [],
   "source": [
    "from xv.dataset import get_instances, get_mask"
   ]
  },
  {
   "cell_type": "code",
   "execution_count": 4,
   "metadata": {},
   "outputs": [
    {
     "name": "stderr",
     "output_type": "stream",
     "text": [
      "100%|██████████| 2799/2799 [00:27<00:00, 103.03it/s]\n"
     ]
    }
   ],
   "source": [
    "from glob import glob\n",
    "files = glob(train_dir + '/labels/*pre_disaster.json')\n",
    "instances = get_instances(files)"
   ]
  },
  {
   "cell_type": "code",
   "execution_count": 11,
   "metadata": {},
   "outputs": [],
   "source": [
    "import numpy as np\n",
    "def split_save(instance):\n",
    "    image = np.array(Image.open(instance['file_name']))\n",
    "    h, w, _ = image.shape\n",
    "\n",
    "    polys = [a['segmentation'] for a in instance['annotations']]\n",
    "    msk = get_mask(polys, w, h)\n",
    "\n",
    "    hm, wm = h//2, w//2\n",
    "    split_im = image[:hm, :wm], image[:hm, wm:], image[hm:, :wm], image[hm:, wm:]\n",
    "    split_msk = msk[:hm, :wm], msk[:hm, wm:], msk[hm:, :wm], msk[hm:, wm:]\n",
    "\n",
    "    base_img_path = instance['file_name'].replace('images', 'images_split')\n",
    "    base_msk_path = instance['file_name'].replace('images', 'masks_split').replace('png', 'npy')\n",
    "\n",
    "    for ix, (i, m) in enumerate(zip(split_im, split_msk)):\n",
    "        Image.fromarray(i).save(base_img_path.replace('pre_disaster', f'{ix}_pre_disaster'))\n",
    "        np.save(base_msk_path.replace('pre_disaster', f'{ix}_pre_disaster'), m)\n",
    "        \n",
    "len(instances)"
   ]
  }
 ],
 "metadata": {
  "kernelspec": {
   "display_name": "Python 3",
   "language": "python",
   "name": "python3"
  },
  "language_info": {
   "codemirror_mode": {
    "name": "ipython",
    "version": 3
   },
   "file_extension": ".py",
   "mimetype": "text/x-python",
   "name": "python",
   "nbconvert_exporter": "python",
   "pygments_lexer": "ipython3",
   "version": "3.7.4"
  }
 },
 "nbformat": 4,
 "nbformat_minor": 4
}
